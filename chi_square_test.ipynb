{
 "cells": [
  {
   "cell_type": "markdown",
   "id": "89e47b3a-f241-4968-bc93-019dde1c200f",
   "metadata": {},
   "source": [
    "# chi_square_test"
   ]
  },
  {
   "cell_type": "markdown",
   "id": "7edb5371-8148-4a3a-bbc3-fe7202c7289a",
   "metadata": {},
   "source": [
    "## Association between Device Type and Customer Satisfaction"
   ]
  },
  {
   "cell_type": "markdown",
   "id": "e815821e-4311-4f9c-b34c-c3e3ba07ea89",
   "metadata": {},
   "source": [
    "### Objective:\n",
    "To use the Chi-Square test for independence to determine if there's a significant association between the type of smart home device purchased (Smart Thermostats vs. Smart Lights) and the customer satisfaction level."
   ]
  },
  {
   "cell_type": "code",
   "execution_count": 9,
   "id": "13d433d6-51fd-4ee9-8dd5-a0e98d0c26f0",
   "metadata": {},
   "outputs": [],
   "source": [
    "import numpy as np\n",
    "import pandas as pd\n",
    "from scipy.stats import chi2_contingency, chi2"
   ]
  },
  {
   "cell_type": "code",
   "execution_count": 10,
   "id": "a51fa348-4d1f-4832-9b02-a2a39dacd53b",
   "metadata": {},
   "outputs": [],
   "source": [
    "#  Create Contingency Table\n",
    "data = np.array([\n",
    "    [50, 70],\n",
    "    [80, 100],\n",
    "    [60, 90],\n",
    "    [30, 50],\n",
    "    [20, 50]\n",
    "])"
   ]
  },
  {
   "cell_type": "markdown",
   "id": "aa400051-6596-435c-bcab-b1b310c34d57",
   "metadata": {},
   "source": [
    "## State Hypotheses\n",
    "#### H0: No association between device type and customer satisfaction\n",
    "#### H1: Significant association exists"
   ]
  },
  {
   "cell_type": "markdown",
   "id": "3c9e5953-2fa4-492c-8432-15e19446f1e6",
   "metadata": {},
   "source": [
    "## Perform Chi-Square Test"
   ]
  },
  {
   "cell_type": "code",
   "execution_count": 11,
   "id": "4e5d9f48-c287-4c4a-9b74-e41d52e19f54",
   "metadata": {},
   "outputs": [],
   "source": [
    "chi2_stat, p_val, dof, expected = chi2_contingency(data)"
   ]
  },
  {
   "cell_type": "code",
   "execution_count": 12,
   "id": "0ee860b1-adb0-4aa3-ac9d-25129a3ff861",
   "metadata": {},
   "outputs": [
    {
     "name": "stdout",
     "output_type": "stream",
     "text": [
      "Chi-Square Statistic: 5.638227513227513\n",
      "p-value: 0.22784371130697179\n",
      "Degrees of Freedom: 4\n",
      "Expected Frequencies:\n",
      " [[ 48.  72.]\n",
      " [ 72. 108.]\n",
      " [ 60.  90.]\n",
      " [ 32.  48.]\n",
      " [ 28.  42.]]\n"
     ]
    }
   ],
   "source": [
    "print(\"Chi-Square Statistic:\", chi2_stat)\n",
    "print(\"p-value:\", p_val)\n",
    "print(\"Degrees of Freedom:\", dof)\n",
    "print(\"Expected Frequencies:\\n\", expected)"
   ]
  },
  {
   "cell_type": "markdown",
   "id": "66d6884a-4290-4828-996a-fa3f2f5a1a61",
   "metadata": {},
   "source": [
    "## Determine the Critical Value"
   ]
  },
  {
   "cell_type": "code",
   "execution_count": 13,
   "id": "3c6469f9-12de-4d01-9110-e6e885f3ab1e",
   "metadata": {},
   "outputs": [
    {
     "name": "stdout",
     "output_type": "stream",
     "text": [
      "Critical Value: 9.487729036781154\n"
     ]
    }
   ],
   "source": [
    "#  Determine Critical Value at α = 0.05\n",
    "alpha = 0.05\n",
    "critical_value = chi2.ppf(1 - alpha, dof)\n",
    "\n",
    "print(\"Critical Value:\", critical_value)"
   ]
  },
  {
   "cell_type": "markdown",
   "id": "2f77eefc-c59c-44f3-8c1d-4a5248ec9e88",
   "metadata": {},
   "source": [
    "## Make a Decision"
   ]
  },
  {
   "cell_type": "code",
   "execution_count": 14,
   "id": "1a5d64b8-ed8b-426a-be5d-fc3cb2c3375f",
   "metadata": {},
   "outputs": [
    {
     "name": "stdout",
     "output_type": "stream",
     "text": [
      "Fail to Reject Null Hypothesis: No significant association.\n"
     ]
    }
   ],
   "source": [
    "#  Make Decision\n",
    "if chi2_stat > critical_value:\n",
    "    print(\"Reject Null Hypothesis: Significant association exists.\")\n",
    "else:\n",
    "    print(\"Fail to Reject Null Hypothesis: No significant association.\")\n"
   ]
  },
  {
   "cell_type": "markdown",
   "id": "1befb520-cf00-4554-8363-330a338b3c4e",
   "metadata": {},
   "source": [
    "## Explanation of Steps:\n",
    "### Hypotheses:\n",
    "\n",
    "H₀: No association between device type and satisfaction.\n",
    "\n",
    "H₁: Significant association exists.\n",
    "\n",
    "Chi-Square Test checks if observed counts differ significantly from expected counts under independence.\n",
    "\n",
    "Degrees of Freedom (df): (rows−1)×(columns−1)=(5−1)×(2−1)=4\n",
    "\n",
    "### Critical Value:\n",
    "From Chi-square table at df=4, α=0.05.\n",
    "\n",
    "### Decision Rule:\n",
    "\n",
    "If test statistic > critical value → Reject H₀\n",
    "\n",
    "Else → Fail to reject H₀"
   ]
  },
  {
   "cell_type": "markdown",
   "id": "4d5f3a02-e3e3-4540-bd6d-a4e8bbd1a82c",
   "metadata": {},
   "source": [
    "## Conclusion:\n",
    "Since Chi-Square Statistic (5.64) < Critical Value (9.48),\n",
    "we fail to reject the null hypothesis.\n",
    "=> No significant association exists between the type of device and customer satisfaction at 5% significance level."
   ]
  },
  {
   "cell_type": "code",
   "execution_count": null,
   "id": "c2c983cb-9ae3-4ae9-a662-16d20b0b1d6e",
   "metadata": {},
   "outputs": [],
   "source": []
  },
  {
   "cell_type": "code",
   "execution_count": null,
   "id": "57c7a598-2f05-40fa-a18a-d66a97d16bf4",
   "metadata": {},
   "outputs": [],
   "source": []
  },
  {
   "cell_type": "code",
   "execution_count": null,
   "id": "ef35b1c1-75fc-4b76-b0ed-3f9b09953f36",
   "metadata": {},
   "outputs": [],
   "source": []
  },
  {
   "cell_type": "code",
   "execution_count": null,
   "id": "4f7cd282-a82b-40a8-8cc0-3bce63756752",
   "metadata": {},
   "outputs": [],
   "source": []
  }
 ],
 "metadata": {
  "kernelspec": {
   "display_name": "Python 3 (ipykernel)",
   "language": "python",
   "name": "python3"
  },
  "language_info": {
   "codemirror_mode": {
    "name": "ipython",
    "version": 3
   },
   "file_extension": ".py",
   "mimetype": "text/x-python",
   "name": "python",
   "nbconvert_exporter": "python",
   "pygments_lexer": "ipython3",
   "version": "3.11.7"
  }
 },
 "nbformat": 4,
 "nbformat_minor": 5
}
