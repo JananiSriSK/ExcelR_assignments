{
 "cells": [
  {
   "cell_type": "markdown",
   "id": "46114844-4f1e-4986-b9e0-88600fd8027c",
   "metadata": {},
   "source": [
    "# Confidence Interval"
   ]
  },
  {
   "cell_type": "markdown",
   "id": "5a79e3b3-069a-466e-8f2e-9e6af408477c",
   "metadata": {},
   "source": [
    "### durability of computer's print-heads example"
   ]
  },
  {
   "cell_type": "markdown",
   "id": "8d8051d1-a10e-4c2d-ad57-4cb182fb6c33",
   "metadata": {},
   "source": [
    "## a) n = 15, \n",
    "    population standard deviation is unknown and n<30, so better to go with t distribution"
   ]
  },
  {
   "cell_type": "markdown",
   "id": "09756bd0-f8ac-43ec-944b-eb8cddcd8a42",
   "metadata": {},
   "source": [
    "#### n=15,  CI = 99%, alpha = 0.01 "
   ]
  },
  {
   "cell_type": "code",
   "execution_count": 2,
   "id": "d6182d59-33eb-4064-86a3-c08d523cb9fd",
   "metadata": {},
   "outputs": [],
   "source": [
    "from scipy import stats\n",
    "import numpy as np"
   ]
  },
  {
   "cell_type": "code",
   "execution_count": 11,
   "id": "34026bbc-498f-4fe0-a0f8-6250136f4e93",
   "metadata": {},
   "outputs": [],
   "source": [
    "samp = [1.13, 1.55, 1.43, 0.92, 1.25, 1.36, 1.32, 0.85, 1.07, 1.48, 1.20, 1.33, 1.18, 1.22, 1.29]"
   ]
  },
  {
   "cell_type": "code",
   "execution_count": 7,
   "id": "b6bed398-df12-47aa-9982-53876497f08a",
   "metadata": {},
   "outputs": [],
   "source": [
    "std = np.std(samp)"
   ]
  },
  {
   "cell_type": "code",
   "execution_count": 8,
   "id": "7d3f5e34-0abc-41a0-87f1-32c8ad76833a",
   "metadata": {},
   "outputs": [],
   "source": [
    "mean = np.mean(samp)"
   ]
  },
  {
   "cell_type": "code",
   "execution_count": 19,
   "id": "3bd1f35c-d7a3-4bdb-a28a-01791edac6c8",
   "metadata": {},
   "outputs": [
    {
     "data": {
      "text/plain": [
       "(1.0952316686385626, 1.3821016646947706)"
      ]
     },
     "execution_count": 19,
     "metadata": {},
     "output_type": "execute_result"
    }
   ],
   "source": [
    "inter_t = stats.t.interval(0.99, df = 14, loc =np.mean(samp), scale = np.std(samp)/np.sqrt(15))\n",
    "inter_t"
   ]
  },
  {
   "cell_type": "markdown",
   "id": "e36f930b-5540-482a-8eda-a9231349ee5b",
   "metadata": {},
   "source": [
    "### Interpretation (Using Sample Standard Deviation):\n",
    "WIt is 99% confident that the true mean durability of the print-heads lies between approximately 1.13 million and 1.40 million characters printed before failure.  \n",
    "Since the population standard deviation is unknown and the sample size is small (n = 15), we used the t-distribution for this confidence interval. The wide interval reflects both the uncertainty from using a small sample and the variability in the data.\n"
   ]
  },
  {
   "cell_type": "markdown",
   "id": "28208a0d-4e4f-45a5-b89a-bed345dd77f1",
   "metadata": {},
   "source": [
    "## b) n=15, std_pop = 0.2 alpha = 0.01\n",
    "\n",
    "here since population's standard deviation is known, we can go with z distribution"
   ]
  },
  {
   "cell_type": "code",
   "execution_count": 22,
   "id": "f4ee1c0a-52f0-43cf-85c5-d5ba3f3f0149",
   "metadata": {},
   "outputs": [
    {
     "data": {
      "text/plain": [
       "(1.1056514133957607, 1.3716819199375725)"
      ]
     },
     "execution_count": 22,
     "metadata": {},
     "output_type": "execute_result"
    }
   ],
   "source": [
    "inter_z = stats.norm.interval(0.99, loc =np.mean(samp), scale = 0.2/np.sqrt(15))\n",
    "inter_z"
   ]
  },
  {
   "cell_type": "markdown",
   "id": "6b16db7c-2182-4435-b437-865d05335759",
   "metadata": {},
   "source": [
    "### Interpretation (Using Known Population Standard Deviation):  \n",
    "With 99% confidence, the true mean durability of the print-heads is estimated to be between approximately 1.13 million and 1.40 million characters printed before failure.  \n",
    "Because the population standard deviation (σ = 0.2) is known, we used the z-distribution. This provides a slightly narrower interval compared to using the sample standard deviation, indicating a more precise estimate due to known population variability.\n"
   ]
  },
  {
   "cell_type": "code",
   "execution_count": null,
   "id": "14b18482-ef44-4ec8-bd5e-ac4043710516",
   "metadata": {},
   "outputs": [],
   "source": []
  }
 ],
 "metadata": {
  "kernelspec": {
   "display_name": "Python 3 (ipykernel)",
   "language": "python",
   "name": "python3"
  },
  "language_info": {
   "codemirror_mode": {
    "name": "ipython",
    "version": 3
   },
   "file_extension": ".py",
   "mimetype": "text/x-python",
   "name": "python",
   "nbconvert_exporter": "python",
   "pygments_lexer": "ipython3",
   "version": "3.11.7"
  }
 },
 "nbformat": 4,
 "nbformat_minor": 5
}
