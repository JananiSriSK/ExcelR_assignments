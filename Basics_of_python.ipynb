{
 "cells": [
  {
   "cell_type": "markdown",
   "id": "68ac86fa-e51e-4bf4-8f2b-2e44549f4521",
   "metadata": {},
   "source": [
    "### Exercise 1: Prime Numbers"
   ]
  },
  {
   "cell_type": "code",
   "execution_count": 1,
   "id": "1f12c2ba-98f0-4c45-9419-dca0161c8e6e",
   "metadata": {},
   "outputs": [
    {
     "data": {
      "text/plain": [
       "True"
      ]
     },
     "execution_count": 1,
     "metadata": {},
     "output_type": "execute_result"
    }
   ],
   "source": [
    "#create a function isPrime\n",
    "def isPrime(n):\n",
    "    if(n<=1):\n",
    "        return False\n",
    "    for i in range(2,n):\n",
    "        if(n%i == 0):\n",
    "            return False\n",
    "    return True    \n",
    "\n",
    "#call the function\n",
    "isPrime(3)"
   ]
  },
  {
   "cell_type": "markdown",
   "id": "cd87c994-8e2f-4506-b18f-6c958add97b2",
   "metadata": {},
   "source": [
    "### Exercise 2: Product of Random Numbers"
   ]
  },
  {
   "cell_type": "code",
   "execution_count": 2,
   "id": "6af307ad-3fd7-4314-925c-d7f414e67129",
   "metadata": {},
   "outputs": [
    {
     "name": "stdin",
     "output_type": "stream",
     "text": [
      "What is 6 × 9?  4\n"
     ]
    },
    {
     "name": "stdout",
     "output_type": "stream",
     "text": [
      "Wrong! The correct answer is 54.\n"
     ]
    }
   ],
   "source": [
    "import random\n",
    "\n",
    "num1 = random.randint(1, 10)\n",
    "num2 = random.randint(1, 10)\n",
    "\n",
    "crct_ans = num1 * num2\n",
    "\n",
    "user_ans = int(input(f\"What is {num1} × {num2}? \"))\n",
    "\n",
    "# Check if the answer is right\n",
    "if user_ans == crct_ans:\n",
    "    print(\"Correct answer !!\")\n",
    "else:\n",
    "    print(f\"Wrong! The correct answer is {crct_ans}.\")\n"
   ]
  },
  {
   "cell_type": "markdown",
   "id": "16e73706-626e-4b53-af49-f13800cfb4fa",
   "metadata": {},
   "source": [
    "### Exercise 3: Squares of Even/Odd Numbers"
   ]
  },
  {
   "cell_type": "code",
   "execution_count": 3,
   "id": "466414c8-de8d-4183-988a-cabe1a5069a2",
   "metadata": {},
   "outputs": [
    {
     "name": "stdout",
     "output_type": "stream",
     "text": [
      "Square of 100 = 10000\n",
      "Square of 102 = 10404\n",
      "Square of 104 = 10816\n",
      "Square of 106 = 11236\n",
      "Square of 108 = 11664\n",
      "Square of 110 = 12100\n",
      "Square of 112 = 12544\n",
      "Square of 114 = 12996\n",
      "Square of 116 = 13456\n",
      "Square of 118 = 13924\n",
      "Square of 120 = 14400\n",
      "Square of 122 = 14884\n",
      "Square of 124 = 15376\n",
      "Square of 126 = 15876\n",
      "Square of 128 = 16384\n",
      "Square of 130 = 16900\n",
      "Square of 132 = 17424\n",
      "Square of 134 = 17956\n",
      "Square of 136 = 18496\n",
      "Square of 138 = 19044\n",
      "Square of 140 = 19600\n",
      "Square of 142 = 20164\n",
      "Square of 144 = 20736\n",
      "Square of 146 = 21316\n",
      "Square of 148 = 21904\n",
      "Square of 150 = 22500\n",
      "Square of 152 = 23104\n",
      "Square of 154 = 23716\n",
      "Square of 156 = 24336\n",
      "Square of 158 = 24964\n",
      "Square of 160 = 25600\n",
      "Square of 162 = 26244\n",
      "Square of 164 = 26896\n",
      "Square of 166 = 27556\n",
      "Square of 168 = 28224\n",
      "Square of 170 = 28900\n",
      "Square of 172 = 29584\n",
      "Square of 174 = 30276\n",
      "Square of 176 = 30976\n",
      "Square of 178 = 31684\n",
      "Square of 180 = 32400\n",
      "Square of 182 = 33124\n",
      "Square of 184 = 33856\n",
      "Square of 186 = 34596\n",
      "Square of 188 = 35344\n",
      "Square of 190 = 36100\n",
      "Square of 192 = 36864\n",
      "Square of 194 = 37636\n",
      "Square of 196 = 38416\n",
      "Square of 198 = 39204\n",
      "Square of 200 = 40000\n"
     ]
    }
   ],
   "source": [
    "#loop to check for even number and finding the corresponding square\n",
    "for num in range(100, 201):\n",
    "    if num % 2 == 0:  \n",
    "        print(f\"Square of {num} = {num ** 2}\")\n"
   ]
  },
  {
   "cell_type": "markdown",
   "id": "316cd2f3-7e1b-4ce9-92a5-c89c7e243530",
   "metadata": {},
   "source": [
    "### Exercise 4: Word counter"
   ]
  },
  {
   "cell_type": "code",
   "execution_count": 4,
   "id": "8b411813-7700-4b3b-a6cd-aba31be01701",
   "metadata": {},
   "outputs": [
    {
     "name": "stdout",
     "output_type": "stream",
     "text": [
      "'This': 2\n",
      "'is': 1\n",
      "'a': 1\n",
      "'sample': 1\n",
      "'text': 2\n",
      "'.': 1\n",
      "'will': 1\n",
      "'be': 1\n",
      "'used': 1\n",
      "'to': 1\n",
      "'demonstrate': 1\n",
      "'the': 1\n",
      "'word': 1\n",
      "'counter.': 1\n"
     ]
    }
   ],
   "source": [
    "from collections import Counter\n",
    "\n",
    "input_text = \"This is a sample text . This text will be used to demonstrate the word counter.\"\n",
    "\n",
    "# split input into words\n",
    "words = input_text.split()\n",
    "\n",
    "# Count \n",
    "word_count = Counter(words)\n",
    "\n",
    "# Display the word counts\n",
    "for word, count in word_count.items():\n",
    "    print(f\"'{word}': {count}\")"
   ]
  },
  {
   "cell_type": "markdown",
   "id": "e44b65a8-fab9-4039-8030-ce733fb5f66d",
   "metadata": {},
   "source": [
    "### Exercise 5: Check for Palindrome"
   ]
  },
  {
   "cell_type": "code",
   "execution_count": 5,
   "id": "ef885274-31eb-4cf6-a767-59a337a0c048",
   "metadata": {},
   "outputs": [
    {
     "data": {
      "text/plain": [
       "True"
      ]
     },
     "execution_count": 5,
     "metadata": {},
     "output_type": "execute_result"
    }
   ],
   "source": [
    "#Python function called is_palindrome \n",
    "\n",
    "def is_palindrome(word):\n",
    "    word = ''.join(c.lower() for c in word if c.isalpha()) #keep only the letters in the input string\n",
    "    if( word[::-1] == word): #reverse and compare with the input\n",
    "        return True\n",
    "    else: \n",
    "        return False\n",
    "\n",
    "#call the function\n",
    "is_palindrome('Racecar.') "
   ]
  },
  {
   "cell_type": "code",
   "execution_count": 6,
   "id": "3ed868b6-6ba2-49aa-bb39-550bc8e93db9",
   "metadata": {},
   "outputs": [
    {
     "data": {
      "text/plain": [
       "False"
      ]
     },
     "execution_count": 6,
     "metadata": {},
     "output_type": "execute_result"
    }
   ],
   "source": [
    "is_palindrome('hello')"
   ]
  },
  {
   "cell_type": "code",
   "execution_count": null,
   "id": "d7b44dfc-e24d-4f91-9fb4-5ebcbfe977f9",
   "metadata": {},
   "outputs": [],
   "source": []
  }
 ],
 "metadata": {
  "kernelspec": {
   "display_name": "Python 3 (ipykernel)",
   "language": "python",
   "name": "python3"
  },
  "language_info": {
   "codemirror_mode": {
    "name": "ipython",
    "version": 3
   },
   "file_extension": ".py",
   "mimetype": "text/x-python",
   "name": "python",
   "nbconvert_exporter": "python",
   "pygments_lexer": "ipython3",
   "version": "3.11.7"
  }
 },
 "nbformat": 4,
 "nbformat_minor": 5
}
