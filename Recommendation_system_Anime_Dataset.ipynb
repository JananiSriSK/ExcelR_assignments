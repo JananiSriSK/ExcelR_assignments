{
 "cells": [
  {
   "cell_type": "markdown",
   "metadata": {
    "id": "neiBVgoVXr0r"
   },
   "source": [
    "# Recommendation System\n",
    "\n"
   ]
  },
  {
   "cell_type": "markdown",
   "metadata": {},
   "source": [
    "## Task\n",
    "To implement a recommendation system using cosine similarity based on anime genres and/or ratings."
   ]
  },
  {
   "cell_type": "markdown",
   "metadata": {
    "id": "kOvY9CQhYu0w"
   },
   "source": [
    "## EDA:"
   ]
  },
  {
   "cell_type": "code",
   "execution_count": 2,
   "metadata": {},
   "outputs": [],
   "source": [
    "import warnings\n",
    "warnings.filterwarnings(\"ignore\")"
   ]
  },
  {
   "cell_type": "code",
   "execution_count": 1,
   "metadata": {
    "id": "5SnMFq5NXS7D"
   },
   "outputs": [
    {
     "name": "stderr",
     "output_type": "stream",
     "text": [
      "C:\\Users\\Jananisri\\anaconda3\\Lib\\site-packages\\pandas\\core\\arrays\\masked.py:61: UserWarning: Pandas requires version '1.3.6' or newer of 'bottleneck' (version '1.3.5' currently installed).\n",
      "  from pandas.core import (\n"
     ]
    }
   ],
   "source": [
    "# Importing libraries\n",
    "import numpy as np\n",
    "import pandas as pd\n",
    "import matplotlib.pyplot as plt\n",
    "import seaborn as sns"
   ]
  },
  {
   "cell_type": "code",
   "execution_count": 3,
   "metadata": {},
   "outputs": [
    {
     "name": "stdout",
     "output_type": "stream",
     "text": [
      "Requirement already satisfied: bottleneck in c:\\users\\jananisri\\anaconda3\\lib\\site-packages (1.3.5)\n",
      "Collecting bottleneck\n",
      "  Obtaining dependency information for bottleneck from https://files.pythonhosted.org/packages/17/03/f89a2eff4f919a7c98433df3be6fd9787c72966a36be289ec180f505b2d5/bottleneck-1.5.0-cp311-cp311-win_amd64.whl.metadata\n",
      "  Downloading bottleneck-1.5.0-cp311-cp311-win_amd64.whl.metadata (8.3 kB)\n",
      "Requirement already satisfied: numpy in c:\\users\\jananisri\\anaconda3\\lib\\site-packages (from bottleneck) (1.24.3)\n",
      "Downloading bottleneck-1.5.0-cp311-cp311-win_amd64.whl (112 kB)\n",
      "   ---------------------------------------- 0.0/112.1 kB ? eta -:--:--\n",
      "   ----------------------------- ---------- 81.9/112.1 kB 1.5 MB/s eta 0:00:01\n",
      "   ---------------------------------------- 112.1/112.1 kB 1.6 MB/s eta 0:00:00\n",
      "Installing collected packages: bottleneck\n",
      "  Attempting uninstall: bottleneck\n",
      "    Found existing installation: Bottleneck 1.3.5\n",
      "    Uninstalling Bottleneck-1.3.5:\n",
      "      Successfully uninstalled Bottleneck-1.3.5\n",
      "Successfully installed bottleneck-1.5.0\n"
     ]
    }
   ],
   "source": [
    "!pip install --upgrade bottleneck"
   ]
  },
  {
   "cell_type": "code",
   "execution_count": 4,
   "metadata": {
    "id": "-FRRrXh0XS3b"
   },
   "outputs": [],
   "source": [
    "df = pd.read_csv('./anime.csv')"
   ]
  },
  {
   "cell_type": "code",
   "execution_count": 5,
   "metadata": {},
   "outputs": [],
   "source": [
    "df1 = df.copy()"
   ]
  },
  {
   "cell_type": "code",
   "execution_count": 6,
   "metadata": {
    "colab": {
     "base_uri": "https://localhost:8080/",
     "height": 206
    },
    "id": "GllMNhauXS0Y",
    "outputId": "09f6b5f3-0f59-43e0-da0b-0aa7d2ce5abb"
   },
   "outputs": [
    {
     "data": {
      "text/html": [
       "<div>\n",
       "<style scoped>\n",
       "    .dataframe tbody tr th:only-of-type {\n",
       "        vertical-align: middle;\n",
       "    }\n",
       "\n",
       "    .dataframe tbody tr th {\n",
       "        vertical-align: top;\n",
       "    }\n",
       "\n",
       "    .dataframe thead th {\n",
       "        text-align: right;\n",
       "    }\n",
       "</style>\n",
       "<table border=\"1\" class=\"dataframe\">\n",
       "  <thead>\n",
       "    <tr style=\"text-align: right;\">\n",
       "      <th></th>\n",
       "      <th>anime_id</th>\n",
       "      <th>name</th>\n",
       "      <th>genre</th>\n",
       "      <th>type</th>\n",
       "      <th>episodes</th>\n",
       "      <th>rating</th>\n",
       "      <th>members</th>\n",
       "    </tr>\n",
       "  </thead>\n",
       "  <tbody>\n",
       "    <tr>\n",
       "      <th>0</th>\n",
       "      <td>32281</td>\n",
       "      <td>Kimi no Na wa.</td>\n",
       "      <td>Drama, Romance, School, Supernatural</td>\n",
       "      <td>Movie</td>\n",
       "      <td>1</td>\n",
       "      <td>9.37</td>\n",
       "      <td>200630</td>\n",
       "    </tr>\n",
       "    <tr>\n",
       "      <th>1</th>\n",
       "      <td>5114</td>\n",
       "      <td>Fullmetal Alchemist: Brotherhood</td>\n",
       "      <td>Action, Adventure, Drama, Fantasy, Magic, Mili...</td>\n",
       "      <td>TV</td>\n",
       "      <td>64</td>\n",
       "      <td>9.26</td>\n",
       "      <td>793665</td>\n",
       "    </tr>\n",
       "    <tr>\n",
       "      <th>2</th>\n",
       "      <td>28977</td>\n",
       "      <td>Gintama°</td>\n",
       "      <td>Action, Comedy, Historical, Parody, Samurai, S...</td>\n",
       "      <td>TV</td>\n",
       "      <td>51</td>\n",
       "      <td>9.25</td>\n",
       "      <td>114262</td>\n",
       "    </tr>\n",
       "    <tr>\n",
       "      <th>3</th>\n",
       "      <td>9253</td>\n",
       "      <td>Steins;Gate</td>\n",
       "      <td>Sci-Fi, Thriller</td>\n",
       "      <td>TV</td>\n",
       "      <td>24</td>\n",
       "      <td>9.17</td>\n",
       "      <td>673572</td>\n",
       "    </tr>\n",
       "    <tr>\n",
       "      <th>4</th>\n",
       "      <td>9969</td>\n",
       "      <td>Gintama&amp;#039;</td>\n",
       "      <td>Action, Comedy, Historical, Parody, Samurai, S...</td>\n",
       "      <td>TV</td>\n",
       "      <td>51</td>\n",
       "      <td>9.16</td>\n",
       "      <td>151266</td>\n",
       "    </tr>\n",
       "  </tbody>\n",
       "</table>\n",
       "</div>"
      ],
      "text/plain": [
       "   anime_id                              name  \\\n",
       "0     32281                    Kimi no Na wa.   \n",
       "1      5114  Fullmetal Alchemist: Brotherhood   \n",
       "2     28977                          Gintama°   \n",
       "3      9253                       Steins;Gate   \n",
       "4      9969                     Gintama&#039;   \n",
       "\n",
       "                                               genre   type episodes  rating  \\\n",
       "0               Drama, Romance, School, Supernatural  Movie        1    9.37   \n",
       "1  Action, Adventure, Drama, Fantasy, Magic, Mili...     TV       64    9.26   \n",
       "2  Action, Comedy, Historical, Parody, Samurai, S...     TV       51    9.25   \n",
       "3                                   Sci-Fi, Thriller     TV       24    9.17   \n",
       "4  Action, Comedy, Historical, Parody, Samurai, S...     TV       51    9.16   \n",
       "\n",
       "   members  \n",
       "0   200630  \n",
       "1   793665  \n",
       "2   114262  \n",
       "3   673572  \n",
       "4   151266  "
      ]
     },
     "execution_count": 6,
     "metadata": {},
     "output_type": "execute_result"
    }
   ],
   "source": [
    "df1.head()"
   ]
  },
  {
   "cell_type": "code",
   "execution_count": 7,
   "metadata": {
    "colab": {
     "base_uri": "https://localhost:8080/"
    },
    "id": "lVQHIJkudSA5",
    "outputId": "cef786b6-c51b-4389-f357-ebc162e7ac38"
   },
   "outputs": [
    {
     "data": {
      "text/plain": [
       "(12294, 7)"
      ]
     },
     "execution_count": 7,
     "metadata": {},
     "output_type": "execute_result"
    }
   ],
   "source": [
    "df1.shape"
   ]
  },
  {
   "cell_type": "markdown",
   "metadata": {
    "id": "lS4pdl4kbHAQ"
   },
   "source": [
    "### Data Preprocessing"
   ]
  },
  {
   "cell_type": "code",
   "execution_count": 9,
   "metadata": {
    "colab": {
     "base_uri": "https://localhost:8080/"
    },
    "id": "07ZauBoeXSwp",
    "outputId": "a69deb33-552b-4229-8f10-4db2665b015f"
   },
   "outputs": [
    {
     "name": "stdout",
     "output_type": "stream",
     "text": [
      "<class 'pandas.core.frame.DataFrame'>\n",
      "RangeIndex: 12294 entries, 0 to 12293\n",
      "Data columns (total 7 columns):\n",
      " #   Column    Non-Null Count  Dtype  \n",
      "---  ------    --------------  -----  \n",
      " 0   anime_id  12294 non-null  int64  \n",
      " 1   name      12294 non-null  object \n",
      " 2   genre     12232 non-null  object \n",
      " 3   type      12269 non-null  object \n",
      " 4   episodes  12294 non-null  object \n",
      " 5   rating    12064 non-null  float64\n",
      " 6   members   12294 non-null  int64  \n",
      "dtypes: float64(1), int64(2), object(4)\n",
      "memory usage: 672.5+ KB\n"
     ]
    }
   ],
   "source": [
    "df1.info()"
   ]
  },
  {
   "cell_type": "markdown",
   "metadata": {
    "id": "DIHMC6Adcod_"
   },
   "source": [
    "### Checking for  Missing Values"
   ]
  },
  {
   "cell_type": "code",
   "execution_count": 10,
   "metadata": {
    "colab": {
     "base_uri": "https://localhost:8080/"
    },
    "id": "JySMIJ46XSso",
    "outputId": "499f2a03-53bf-428a-8d80-ae0c4eba5235"
   },
   "outputs": [
    {
     "data": {
      "text/plain": [
       "anime_id      0\n",
       "name          0\n",
       "genre        62\n",
       "type         25\n",
       "episodes      0\n",
       "rating      230\n",
       "members       0\n",
       "dtype: int64"
      ]
     },
     "execution_count": 10,
     "metadata": {},
     "output_type": "execute_result"
    }
   ],
   "source": [
    "df1.isnull().sum()"
   ]
  },
  {
   "cell_type": "markdown",
   "metadata": {
    "id": "RNAFfgUycvEu"
   },
   "source": [
    "#### -> drop all the missing values"
   ]
  },
  {
   "cell_type": "code",
   "execution_count": 11,
   "metadata": {
    "id": "TqH2MDKOcPZm"
   },
   "outputs": [],
   "source": [
    "df2 = df1.dropna()"
   ]
  },
  {
   "cell_type": "code",
   "execution_count": 12,
   "metadata": {
    "colab": {
     "base_uri": "https://localhost:8080/"
    },
    "id": "u8rg5HcQcPVI",
    "outputId": "10855f05-52c3-4bef-c2e2-de1b11469475"
   },
   "outputs": [
    {
     "data": {
      "text/plain": [
       "anime_id    0\n",
       "name        0\n",
       "genre       0\n",
       "type        0\n",
       "episodes    0\n",
       "rating      0\n",
       "members     0\n",
       "dtype: int64"
      ]
     },
     "execution_count": 12,
     "metadata": {},
     "output_type": "execute_result"
    }
   ],
   "source": [
    "df2.isnull().sum()"
   ]
  },
  {
   "cell_type": "markdown",
   "metadata": {
    "id": "2CMkPu1fc5K-"
   },
   "source": [
    "#### -> No more missing values in data set\n"
   ]
  },
  {
   "cell_type": "code",
   "execution_count": 15,
   "metadata": {},
   "outputs": [
    {
     "data": {
      "text/plain": [
       "(12294, 7)"
      ]
     },
     "execution_count": 15,
     "metadata": {},
     "output_type": "execute_result"
    }
   ],
   "source": [
    "df1.shape"
   ]
  },
  {
   "cell_type": "code",
   "execution_count": 16,
   "metadata": {
    "colab": {
     "base_uri": "https://localhost:8080/"
    },
    "id": "nWdEsAWBcPO5",
    "outputId": "feeb28f3-15d6-4310-8d84-590e67e55db4"
   },
   "outputs": [
    {
     "data": {
      "text/plain": [
       "(12017, 7)"
      ]
     },
     "execution_count": 16,
     "metadata": {},
     "output_type": "execute_result"
    }
   ],
   "source": [
    "df2.shape"
   ]
  },
  {
   "cell_type": "markdown",
   "metadata": {
    "id": "1haRNjL9elxd"
   },
   "source": [
    "#### -> 277 rows were deleted because of missing values"
   ]
  },
  {
   "cell_type": "markdown",
   "metadata": {
    "id": "SJF_oaHpc-WH"
   },
   "source": [
    "### Checking for Duplicate values"
   ]
  },
  {
   "cell_type": "code",
   "execution_count": 17,
   "metadata": {
    "colab": {
     "base_uri": "https://localhost:8080/"
    },
    "id": "wxMW2q9xcPSR",
    "outputId": "6f0574cc-4c7c-4fe6-9848-c50db2104549"
   },
   "outputs": [
    {
     "data": {
      "text/plain": [
       "0"
      ]
     },
     "execution_count": 17,
     "metadata": {},
     "output_type": "execute_result"
    }
   ],
   "source": [
    "df2.duplicated().sum()"
   ]
  },
  {
   "cell_type": "markdown",
   "metadata": {
    "id": "OyW8xYDQdH9X"
   },
   "source": [
    "#### -> No Duplicate values found."
   ]
  },
  {
   "cell_type": "code",
   "execution_count": 18,
   "metadata": {
    "colab": {
     "base_uri": "https://localhost:8080/"
    },
    "id": "-qsaM_sucPI-",
    "outputId": "97fcdeca-a8d4-4c54-879f-281d06d52015"
   },
   "outputs": [
    {
     "data": {
      "text/plain": [
       "Index(['anime_id', 'name', 'genre', 'type', 'episodes', 'rating', 'members'], dtype='object')"
      ]
     },
     "execution_count": 18,
     "metadata": {},
     "output_type": "execute_result"
    }
   ],
   "source": [
    "df2.columns"
   ]
  },
  {
   "cell_type": "code",
   "execution_count": 19,
   "metadata": {
    "colab": {
     "base_uri": "https://localhost:8080/"
    },
    "id": "_Iya91mOPb54",
    "outputId": "631ba692-8196-4b49-c4c8-728cd9794776"
   },
   "outputs": [
    {
     "name": "stdout",
     "output_type": "stream",
     "text": [
      "<class 'pandas.core.frame.DataFrame'>\n",
      "Index: 12017 entries, 0 to 12293\n",
      "Data columns (total 7 columns):\n",
      " #   Column    Non-Null Count  Dtype  \n",
      "---  ------    --------------  -----  \n",
      " 0   anime_id  12017 non-null  int64  \n",
      " 1   name      12017 non-null  object \n",
      " 2   genre     12017 non-null  object \n",
      " 3   type      12017 non-null  object \n",
      " 4   episodes  12017 non-null  object \n",
      " 5   rating    12017 non-null  float64\n",
      " 6   members   12017 non-null  int64  \n",
      "dtypes: float64(1), int64(2), object(4)\n",
      "memory usage: 751.1+ KB\n"
     ]
    }
   ],
   "source": [
    "df2.info()"
   ]
  },
  {
   "cell_type": "code",
   "execution_count": 20,
   "metadata": {},
   "outputs": [
    {
     "name": "stdout",
     "output_type": "stream",
     "text": [
      "<class 'pandas.core.frame.DataFrame'>\n",
      "RangeIndex: 12017 entries, 0 to 12016\n",
      "Data columns (total 7 columns):\n",
      " #   Column    Non-Null Count  Dtype  \n",
      "---  ------    --------------  -----  \n",
      " 0   anime_id  12017 non-null  int64  \n",
      " 1   name      12017 non-null  object \n",
      " 2   genre     12017 non-null  object \n",
      " 3   type      12017 non-null  object \n",
      " 4   episodes  12017 non-null  object \n",
      " 5   rating    12017 non-null  float64\n",
      " 6   members   12017 non-null  int64  \n",
      "dtypes: float64(1), int64(2), object(4)\n",
      "memory usage: 657.3+ KB\n"
     ]
    }
   ],
   "source": [
    "df2 = df2.reset_index(drop=True)\n",
    "df2.info()"
   ]
  },
  {
   "cell_type": "markdown",
   "metadata": {
    "id": "XgFVS_UBfkNn"
   },
   "source": [
    "### Summary statistics (numerical columns):"
   ]
  },
  {
   "cell_type": "code",
   "execution_count": 21,
   "metadata": {
    "colab": {
     "base_uri": "https://localhost:8080/",
     "height": 143
    },
    "id": "MDgSQRVdcPF2",
    "outputId": "c55e3116-f955-4177-b54d-dd7f9b927ff3"
   },
   "outputs": [
    {
     "data": {
      "text/html": [
       "<div>\n",
       "<style scoped>\n",
       "    .dataframe tbody tr th:only-of-type {\n",
       "        vertical-align: middle;\n",
       "    }\n",
       "\n",
       "    .dataframe tbody tr th {\n",
       "        vertical-align: top;\n",
       "    }\n",
       "\n",
       "    .dataframe thead th {\n",
       "        text-align: right;\n",
       "    }\n",
       "</style>\n",
       "<table border=\"1\" class=\"dataframe\">\n",
       "  <thead>\n",
       "    <tr style=\"text-align: right;\">\n",
       "      <th></th>\n",
       "      <th>count</th>\n",
       "      <th>mean</th>\n",
       "      <th>std</th>\n",
       "      <th>min</th>\n",
       "      <th>25%</th>\n",
       "      <th>50%</th>\n",
       "      <th>75%</th>\n",
       "      <th>max</th>\n",
       "    </tr>\n",
       "  </thead>\n",
       "  <tbody>\n",
       "    <tr>\n",
       "      <th>anime_id</th>\n",
       "      <td>12017.0</td>\n",
       "      <td>13638.001165</td>\n",
       "      <td>11231.076675</td>\n",
       "      <td>1.00</td>\n",
       "      <td>3391.00</td>\n",
       "      <td>9959.00</td>\n",
       "      <td>23729.00</td>\n",
       "      <td>34519.0</td>\n",
       "    </tr>\n",
       "    <tr>\n",
       "      <th>rating</th>\n",
       "      <td>12017.0</td>\n",
       "      <td>6.478264</td>\n",
       "      <td>1.023857</td>\n",
       "      <td>1.67</td>\n",
       "      <td>5.89</td>\n",
       "      <td>6.57</td>\n",
       "      <td>7.18</td>\n",
       "      <td>10.0</td>\n",
       "    </tr>\n",
       "    <tr>\n",
       "      <th>members</th>\n",
       "      <td>12017.0</td>\n",
       "      <td>18348.879005</td>\n",
       "      <td>55372.496436</td>\n",
       "      <td>12.00</td>\n",
       "      <td>225.00</td>\n",
       "      <td>1552.00</td>\n",
       "      <td>9588.00</td>\n",
       "      <td>1013917.0</td>\n",
       "    </tr>\n",
       "  </tbody>\n",
       "</table>\n",
       "</div>"
      ],
      "text/plain": [
       "            count          mean           std    min      25%      50%  \\\n",
       "anime_id  12017.0  13638.001165  11231.076675   1.00  3391.00  9959.00   \n",
       "rating    12017.0      6.478264      1.023857   1.67     5.89     6.57   \n",
       "members   12017.0  18348.879005  55372.496436  12.00   225.00  1552.00   \n",
       "\n",
       "               75%        max  \n",
       "anime_id  23729.00    34519.0  \n",
       "rating        7.18       10.0  \n",
       "members    9588.00  1013917.0  "
      ]
     },
     "execution_count": 21,
     "metadata": {},
     "output_type": "execute_result"
    }
   ],
   "source": [
    "df2.describe().T"
   ]
  },
  {
   "cell_type": "markdown",
   "metadata": {
    "id": "wWiMNJfdfr2O"
   },
   "source": [
    "### Unique values:"
   ]
  },
  {
   "cell_type": "code",
   "execution_count": 22,
   "metadata": {
    "colab": {
     "base_uri": "https://localhost:8080/"
    },
    "id": "JrMDF8V2cPCo",
    "outputId": "16aff4e3-c53f-407a-e323-cccd7df7004a"
   },
   "outputs": [
    {
     "data": {
      "text/plain": [
       "anime_id    12017\n",
       "name        12015\n",
       "genre        3229\n",
       "type            6\n",
       "episodes      187\n",
       "rating        598\n",
       "members      6596\n",
       "dtype: int64"
      ]
     },
     "execution_count": 22,
     "metadata": {},
     "output_type": "execute_result"
    }
   ],
   "source": [
    "df2.nunique()"
   ]
  },
  {
   "cell_type": "markdown",
   "metadata": {
    "id": "9mqPS9n8gCWv"
   },
   "source": [
    "### Distribution of categorical variables:"
   ]
  },
  {
   "cell_type": "code",
   "execution_count": 25,
   "metadata": {},
   "outputs": [
    {
     "data": {
      "text/plain": [
       "type\n",
       "TV         3668\n",
       "OVA        3284\n",
       "Movie      2259\n",
       "Special    1670\n",
       "ONA         648\n",
       "Music       488\n",
       "Name: count, dtype: int64"
      ]
     },
     "execution_count": 25,
     "metadata": {},
     "output_type": "execute_result"
    }
   ],
   "source": [
    "# Distribution of different anime broadcast types\n",
    "df2['type'].value_counts()"
   ]
  },
  {
   "cell_type": "code",
   "execution_count": 26,
   "metadata": {
    "colab": {
     "base_uri": "https://localhost:8080/"
    },
    "id": "T0iaJ7Z_cO_P",
    "outputId": "9cbfccc9-2fa2-4d37-c6d1-195b837c5358"
   },
   "outputs": [
    {
     "data": {
      "text/plain": [
       "genre\n",
       "Hentai                                                   816\n",
       "Comedy                                                   521\n",
       "Music                                                    297\n",
       "Kids                                                     197\n",
       "Comedy, Slice of Life                                    174\n",
       "                                                        ... \n",
       "Adventure, Comedy, Horror, Shounen, Supernatural           1\n",
       "Comedy, Harem, Romance, School, Seinen, Slice of Life      1\n",
       "Comedy, Ecchi, Sci-Fi, Shounen                             1\n",
       "Adventure, Shounen, Sports                                 1\n",
       "Hentai, Slice of Life                                      1\n",
       "Name: count, Length: 3229, dtype: int64"
      ]
     },
     "execution_count": 26,
     "metadata": {},
     "output_type": "execute_result"
    }
   ],
   "source": [
    "df2['genre'].value_counts()"
   ]
  },
  {
   "cell_type": "markdown",
   "metadata": {},
   "source": [
    "### individual genre frequency - genres are comma-separated"
   ]
  },
  {
   "cell_type": "code",
   "execution_count": 28,
   "metadata": {},
   "outputs": [
    {
     "data": {
      "text/html": [
       "<div>\n",
       "<style scoped>\n",
       "    .dataframe tbody tr th:only-of-type {\n",
       "        vertical-align: middle;\n",
       "    }\n",
       "\n",
       "    .dataframe tbody tr th {\n",
       "        vertical-align: top;\n",
       "    }\n",
       "\n",
       "    .dataframe thead th {\n",
       "        text-align: right;\n",
       "    }\n",
       "</style>\n",
       "<table border=\"1\" class=\"dataframe\">\n",
       "  <thead>\n",
       "    <tr style=\"text-align: right;\">\n",
       "      <th></th>\n",
       "      <th>Count</th>\n",
       "    </tr>\n",
       "  </thead>\n",
       "  <tbody>\n",
       "    <tr>\n",
       "      <th>Comedy</th>\n",
       "      <td>4575</td>\n",
       "    </tr>\n",
       "    <tr>\n",
       "      <th>Action</th>\n",
       "      <td>2768</td>\n",
       "    </tr>\n",
       "    <tr>\n",
       "      <th>Adventure</th>\n",
       "      <td>2316</td>\n",
       "    </tr>\n",
       "    <tr>\n",
       "      <th>Fantasy</th>\n",
       "      <td>2242</td>\n",
       "    </tr>\n",
       "    <tr>\n",
       "      <th>Sci-Fi</th>\n",
       "      <td>2036</td>\n",
       "    </tr>\n",
       "    <tr>\n",
       "      <th>Drama</th>\n",
       "      <td>1977</td>\n",
       "    </tr>\n",
       "    <tr>\n",
       "      <th>Shounen</th>\n",
       "      <td>1684</td>\n",
       "    </tr>\n",
       "    <tr>\n",
       "      <th>Kids</th>\n",
       "      <td>1598</td>\n",
       "    </tr>\n",
       "    <tr>\n",
       "      <th>Romance</th>\n",
       "      <td>1437</td>\n",
       "    </tr>\n",
       "    <tr>\n",
       "      <th>Slice of Life</th>\n",
       "      <td>1204</td>\n",
       "    </tr>\n",
       "  </tbody>\n",
       "</table>\n",
       "</div>"
      ],
      "text/plain": [
       "               Count\n",
       "Comedy          4575\n",
       "Action          2768\n",
       "Adventure       2316\n",
       "Fantasy         2242\n",
       "Sci-Fi          2036\n",
       "Drama           1977\n",
       "Shounen         1684\n",
       "Kids            1598\n",
       "Romance         1437\n",
       "Slice of Life   1204"
      ]
     },
     "execution_count": 28,
     "metadata": {},
     "output_type": "execute_result"
    }
   ],
   "source": [
    "# Split the genres and count occurrences of each genre\n",
    "from collections import Counter\n",
    "\n",
    "# Combine all genres into a single list\n",
    "genre_series = df2['genre'].str.split(', ')\n",
    "all_genres = genre_series.sum()\n",
    "\n",
    "# Count occurrences\n",
    "genre_counts = Counter(all_genres)\n",
    "\n",
    "# Convert to DataFrame and view\n",
    "genre_df = pd.DataFrame.from_dict(genre_counts, orient='index', columns=['Count']).sort_values(by='Count', ascending=False)\n",
    "genre_df.head(10)"
   ]
  },
  {
   "cell_type": "markdown",
   "metadata": {
    "id": "JK5aT--CgVhW"
   },
   "source": [
    "## Visualization of the distributions"
   ]
  },
  {
   "cell_type": "markdown",
   "metadata": {},
   "source": [
    "### Bar plot - Distribution of Anime Broadcast Types"
   ]
  },
  {
   "cell_type": "code",
   "execution_count": 29,
   "metadata": {},
   "outputs": [
    {
     "data": {
      "image/png": "[encoded data removed]",
      "text/plain": [
       "<Figure size 800x400 with 1 Axes>"
      ]
     },
     "metadata": {},
     "output_type": "display_data"
    }
   ],
   "source": [
    "\n",
    "plt.figure(figsize=(8, 4))\n",
    "sns.countplot(y='type', data=df2, order=df['type'].value_counts().index)\n",
    "plt.title('Distribution of Anime Broadcast Types')\n",
    "plt.xlabel('Count')\n",
    "plt.ylabel('Type')\n",
    "plt.show()"
   ]
  },
  {
   "cell_type": "markdown",
   "metadata": {},
   "source": [
    "### Barplot - Top 10 Most Common Anime Genres"
   ]
  },
  {
   "cell_type": "code",
   "execution_count": 42,
   "metadata": {},
   "outputs": [
    {
     "data": {
      "image/png": "[encoded data removed]",
      "text/plain": [
       "<Figure size 1000x500 with 1 Axes>"
      ]
     },
     "metadata": {},
     "output_type": "display_data"
    }
   ],
   "source": [
    "plt.figure(figsize=(10, 5))\n",
    "sns.barplot(x=genre_df.head(10).index, y=genre_df.head(10)['Count'], palette='viridis')\n",
    "plt.xticks(rotation=45)\n",
    "plt.title('Top 10 Most Common Anime Genres')\n",
    "plt.ylabel('Count')\n",
    "plt.xlabel('Genre')\n",
    "plt.show()"
   ]
  },
  {
   "cell_type": "markdown",
   "metadata": {},
   "source": [
    "#### Plot interpretation: \n",
    "\n",
    "The bar plot of genre distribution displays the frequency of the top 10 genres in the dataset.The most prevalent genres among the anime is comedy,action, adventure, fantasy .\n"
   ]
  },
  {
   "cell_type": "markdown",
   "metadata": {},
   "source": [
    "### Top 10 Most Popular Anime "
   ]
  },
  {
   "cell_type": "code",
   "execution_count": 51,
   "metadata": {},
   "outputs": [
    {
     "data": {
      "image/png": "[encoded data removed]",
      "text/plain": [
       "<Figure size 1000x500 with 1 Axes>"
      ]
     },
     "metadata": {},
     "output_type": "display_data"
    }
   ],
   "source": [
    "# Get top 10 anime by 'members'\n",
    "top_anime = df2[['name', 'members']].sort_values(by='members', ascending=False).head(10)\n",
    "\n",
    "# Plot\n",
    "plt.figure(figsize=(10, 5))\n",
    "sns.barplot(x='members', y='name', data=top_anime, palette='rocket')\n",
    "plt.title('Top 10 Most Popular Anime (by Members)')\n",
    "plt.xlabel('Number of Members')\n",
    "plt.ylabel('Anime Title')\n",
    "plt.tight_layout()\n",
    "plt.show()"
   ]
  },
  {
   "cell_type": "markdown",
   "metadata": {},
   "source": [
    "### Histogram - Rating Distribution"
   ]
  },
  {
   "cell_type": "code",
   "execution_count": 33,
   "metadata": {},
   "outputs": [
    {
     "data": {
      "image/png": "[encoded data removed]",
      "text/plain": [
       "<Figure size 800x400 with 1 Axes>"
      ]
     },
     "metadata": {},
     "output_type": "display_data"
    }
   ],
   "source": [
    "plt.figure(figsize=(8, 4))\n",
    "sns.histplot(df2['rating'], bins=30, kde=True, color='skyblue')\n",
    "plt.title('Distribution of Anime Ratings')\n",
    "plt.xlabel('Rating')\n",
    "plt.ylabel('Count')\n",
    "plt.show()"
   ]
  },
  {
   "cell_type": "markdown",
   "metadata": {
    "id": "3NYWEtisg_Ob"
   },
   "source": [
    "### Plot interpretation:\n",
    "\n",
    "The histogram of ratings shows the distribution of ratings given to the anime.\n",
    "\n",
    "Most ratings are concentrated within a certain range.\n",
    "The distribution might be skewed, indicating that some anime are more popular or better received than others.\n",
    "\n",
    "\n"
   ]
  },
  {
   "cell_type": "markdown",
   "metadata": {
    "id": "9bvS5NmPooCt"
   },
   "source": [
    "## Feature extraction"
   ]
  },
  {
   "cell_type": "markdown",
   "metadata": {
    "id": "illMqL8rpqtr"
   },
   "source": [
    "The features required for computing similarity between anime by converting categorical genre information into numerical representations and standardizing numerical features using standard scaling."
   ]
  },
  {
   "cell_type": "markdown",
   "metadata": {},
   "source": [
    "### Encoding categorical feature \"genre\" - using One-hot encoder"
   ]
  },
  {
   "cell_type": "code",
   "execution_count": 34,
   "metadata": {
    "id": "vs0NKkmMgRrW"
   },
   "outputs": [],
   "source": [
    "genres = df2['genre'].str.get_dummies(sep=', ')\n",
    "df_numerical = pd.concat([df2.drop('genre', axis=1), genres], axis=1)"
   ]
  },
  {
   "cell_type": "markdown",
   "metadata": {
    "id": "dpsGAGK_pBeM"
   },
   "source": [
    "### Scaling the data - with StandardScaler"
   ]
  },
  {
   "cell_type": "code",
   "execution_count": 35,
   "metadata": {},
   "outputs": [],
   "source": [
    "from sklearn.preprocessing import StandardScaler"
   ]
  },
  {
   "cell_type": "code",
   "execution_count": 36,
   "metadata": {},
   "outputs": [],
   "source": [
    "scaler = StandardScaler()"
   ]
  },
  {
   "cell_type": "code",
   "execution_count": 37,
   "metadata": {},
   "outputs": [],
   "source": [
    "numerical_cols = ['rating', 'members']"
   ]
  },
  {
   "cell_type": "code",
   "execution_count": 38,
   "metadata": {},
   "outputs": [],
   "source": [
    "df_numerical[numerical_cols] = scaler.fit_transform(df_numerical[numerical_cols])"
   ]
  },
  {
   "cell_type": "code",
   "execution_count": 39,
   "metadata": {
    "colab": {
     "base_uri": "https://localhost:8080/",
     "height": 295
    },
    "id": "ry3lHGufo6kA",
    "outputId": "10ccf328-cc60-4a04-af2e-8f11261a17ac"
   },
   "outputs": [
    {
     "data": {
      "text/html": [
       "<div>\n",
       "<style scoped>\n",
       "    .dataframe tbody tr th:only-of-type {\n",
       "        vertical-align: middle;\n",
       "    }\n",
       "\n",
       "    .dataframe tbody tr th {\n",
       "        vertical-align: top;\n",
       "    }\n",
       "\n",
       "    .dataframe thead th {\n",
       "        text-align: right;\n",
       "    }\n",
       "</style>\n",
       "<table border=\"1\" class=\"dataframe\">\n",
       "  <thead>\n",
       "    <tr style=\"text-align: right;\">\n",
       "      <th></th>\n",
       "      <th>anime_id</th>\n",
       "      <th>name</th>\n",
       "      <th>type</th>\n",
       "      <th>episodes</th>\n",
       "      <th>rating</th>\n",
       "      <th>members</th>\n",
       "      <th>Action</th>\n",
       "      <th>Adventure</th>\n",
       "      <th>Cars</th>\n",
       "      <th>Comedy</th>\n",
       "      <th>...</th>\n",
       "      <th>Shounen Ai</th>\n",
       "      <th>Slice of Life</th>\n",
       "      <th>Space</th>\n",
       "      <th>Sports</th>\n",
       "      <th>Super Power</th>\n",
       "      <th>Supernatural</th>\n",
       "      <th>Thriller</th>\n",
       "      <th>Vampire</th>\n",
       "      <th>Yaoi</th>\n",
       "      <th>Yuri</th>\n",
       "    </tr>\n",
       "  </thead>\n",
       "  <tbody>\n",
       "    <tr>\n",
       "      <th>0</th>\n",
       "      <td>32281</td>\n",
       "      <td>Kimi no Na wa.</td>\n",
       "      <td>Movie</td>\n",
       "      <td>1</td>\n",
       "      <td>2.824474</td>\n",
       "      <td>3.292044</td>\n",
       "      <td>0</td>\n",
       "      <td>0</td>\n",
       "      <td>0</td>\n",
       "      <td>0</td>\n",
       "      <td>...</td>\n",
       "      <td>0</td>\n",
       "      <td>0</td>\n",
       "      <td>0</td>\n",
       "      <td>0</td>\n",
       "      <td>0</td>\n",
       "      <td>1</td>\n",
       "      <td>0</td>\n",
       "      <td>0</td>\n",
       "      <td>0</td>\n",
       "      <td>0</td>\n",
       "    </tr>\n",
       "    <tr>\n",
       "      <th>1</th>\n",
       "      <td>5114</td>\n",
       "      <td>Fullmetal Alchemist: Brotherhood</td>\n",
       "      <td>TV</td>\n",
       "      <td>64</td>\n",
       "      <td>2.717032</td>\n",
       "      <td>14.002410</td>\n",
       "      <td>1</td>\n",
       "      <td>1</td>\n",
       "      <td>0</td>\n",
       "      <td>0</td>\n",
       "      <td>...</td>\n",
       "      <td>0</td>\n",
       "      <td>0</td>\n",
       "      <td>0</td>\n",
       "      <td>0</td>\n",
       "      <td>0</td>\n",
       "      <td>0</td>\n",
       "      <td>0</td>\n",
       "      <td>0</td>\n",
       "      <td>0</td>\n",
       "      <td>0</td>\n",
       "    </tr>\n",
       "    <tr>\n",
       "      <th>2</th>\n",
       "      <td>28977</td>\n",
       "      <td>Gintama°</td>\n",
       "      <td>TV</td>\n",
       "      <td>51</td>\n",
       "      <td>2.707265</td>\n",
       "      <td>1.732216</td>\n",
       "      <td>1</td>\n",
       "      <td>0</td>\n",
       "      <td>0</td>\n",
       "      <td>1</td>\n",
       "      <td>...</td>\n",
       "      <td>0</td>\n",
       "      <td>0</td>\n",
       "      <td>0</td>\n",
       "      <td>0</td>\n",
       "      <td>0</td>\n",
       "      <td>0</td>\n",
       "      <td>0</td>\n",
       "      <td>0</td>\n",
       "      <td>0</td>\n",
       "      <td>0</td>\n",
       "    </tr>\n",
       "    <tr>\n",
       "      <th>3</th>\n",
       "      <td>9253</td>\n",
       "      <td>Steins;Gate</td>\n",
       "      <td>TV</td>\n",
       "      <td>24</td>\n",
       "      <td>2.629126</td>\n",
       "      <td>11.833499</td>\n",
       "      <td>0</td>\n",
       "      <td>0</td>\n",
       "      <td>0</td>\n",
       "      <td>0</td>\n",
       "      <td>...</td>\n",
       "      <td>0</td>\n",
       "      <td>0</td>\n",
       "      <td>0</td>\n",
       "      <td>0</td>\n",
       "      <td>0</td>\n",
       "      <td>0</td>\n",
       "      <td>1</td>\n",
       "      <td>0</td>\n",
       "      <td>0</td>\n",
       "      <td>0</td>\n",
       "    </tr>\n",
       "    <tr>\n",
       "      <th>4</th>\n",
       "      <td>9969</td>\n",
       "      <td>Gintama&amp;#039;</td>\n",
       "      <td>TV</td>\n",
       "      <td>51</td>\n",
       "      <td>2.619358</td>\n",
       "      <td>2.400518</td>\n",
       "      <td>1</td>\n",
       "      <td>0</td>\n",
       "      <td>0</td>\n",
       "      <td>1</td>\n",
       "      <td>...</td>\n",
       "      <td>0</td>\n",
       "      <td>0</td>\n",
       "      <td>0</td>\n",
       "      <td>0</td>\n",
       "      <td>0</td>\n",
       "      <td>0</td>\n",
       "      <td>0</td>\n",
       "      <td>0</td>\n",
       "      <td>0</td>\n",
       "      <td>0</td>\n",
       "    </tr>\n",
       "  </tbody>\n",
       "</table>\n",
       "<p>5 rows × 49 columns</p>\n",
       "</div>"
      ],
      "text/plain": [
       "   anime_id                              name   type episodes    rating  \\\n",
       "0     32281                    Kimi no Na wa.  Movie        1  2.824474   \n",
       "1      5114  Fullmetal Alchemist: Brotherhood     TV       64  2.717032   \n",
       "2     28977                          Gintama°     TV       51  2.707265   \n",
       "3      9253                       Steins;Gate     TV       24  2.629126   \n",
       "4      9969                     Gintama&#039;     TV       51  2.619358   \n",
       "\n",
       "     members  Action  Adventure  Cars  Comedy  ...  Shounen Ai  Slice of Life  \\\n",
       "0   3.292044       0          0     0       0  ...           0              0   \n",
       "1  14.002410       1          1     0       0  ...           0              0   \n",
       "2   1.732216       1          0     0       1  ...           0              0   \n",
       "3  11.833499       0          0     0       0  ...           0              0   \n",
       "4   2.400518       1          0     0       1  ...           0              0   \n",
       "\n",
       "   Space  Sports  Super Power  Supernatural  Thriller  Vampire  Yaoi  Yuri  \n",
       "0      0       0            0             1         0        0     0     0  \n",
       "1      0       0            0             0         0        0     0     0  \n",
       "2      0       0            0             0         0        0     0     0  \n",
       "3      0       0            0             0         1        0     0     0  \n",
       "4      0       0            0             0         0        0     0     0  \n",
       "\n",
       "[5 rows x 49 columns]"
      ]
     },
     "execution_count": 39,
     "metadata": {},
     "output_type": "execute_result"
    }
   ],
   "source": [
    "df_numerical.head()"
   ]
  },
  {
   "cell_type": "markdown",
   "metadata": {
    "id": "4WeSDBHDI5F5"
   },
   "source": [
    "### Distribution of Scaled Ratings and Members "
   ]
  },
  {
   "cell_type": "code",
   "execution_count": 46,
   "metadata": {},
   "outputs": [
    {
     "data": {
      "image/png": "[encoded data removed]",
      "text/plain": [
       "<Figure size 1200x500 with 2 Axes>"
      ]
     },
     "metadata": {},
     "output_type": "display_data"
    }
   ],
   "source": [
    "plt.figure(figsize=(12, 5))\n",
    "\n",
    "# Distribution of Ratings\n",
    "plt.subplot(1, 2, 1)\n",
    "sns.histplot(df_numerical['rating'], bins=30, kde=True, color='skyblue')\n",
    "plt.title('Distribution of Ratings')\n",
    "plt.xlabel('Rating')\n",
    "plt.ylabel('Frequency')\n",
    "\n",
    "# Distribution of Members\n",
    "plt.subplot(1, 2, 2)\n",
    "sns.histplot(df_numerical['members'], bins=30, kde=True, color='salmon')\n",
    "plt.title('Distribution of Members')\n",
    "plt.xlabel('Members')\n",
    "plt.ylabel('Frequency')\n",
    "\n",
    "plt.tight_layout()\n",
    "plt.show()\n"
   ]
  },
  {
   "cell_type": "markdown",
   "metadata": {},
   "source": [
    "### Combined Overlay Plot for Ratings & Members"
   ]
  },
  {
   "cell_type": "code",
   "execution_count": 47,
   "metadata": {},
   "outputs": [
    {
     "data": {
      "image/png": "[encoded data removed]",
      "text/plain": [
       "<Figure size 800x800 with 1 Axes>"
      ]
     },
     "metadata": {},
     "output_type": "display_data"
    }
   ],
   "source": [
    "plt.figure(figsize=(8, 8))\n",
    "sns.histplot(df_numerical['rating'], bins=30, color='skyblue', label='Rating', kde=True)\n",
    "sns.histplot(df_numerical['members'], bins=30, color='salmon', label='Members', kde=True)\n",
    "plt.title('Distribution of Ratings and Members')\n",
    "plt.xlabel('Value')\n",
    "plt.ylabel('Frequency')\n",
    "plt.legend()\n",
    "plt.show()"
   ]
  },
  {
   "cell_type": "markdown",
   "metadata": {
    "id": "inU7mN4Yp7E9"
   },
   "source": [
    "## Recommendation system"
   ]
  },
  {
   "cell_type": "markdown",
   "metadata": {
    "id": "zqHglNSTy2tD"
   },
   "source": [
    "#### Designing a function to recommend anime based on cosine similarity."
   ]
  },
  {
   "cell_type": "markdown",
   "metadata": {},
   "source": [
    "NOTE: Cosine similarity measures how similar two anime are based on their feature vectors (like genres, rating, members count, etc.)"
   ]
  },
  {
   "cell_type": "code",
   "execution_count": 48,
   "metadata": {},
   "outputs": [],
   "source": [
    "from sklearn.metrics.pairwise import cosine_similarity"
   ]
  },
  {
   "cell_type": "code",
   "execution_count": 49,
   "metadata": {},
   "outputs": [],
   "source": [
    "def recommend_similar_anime(target_anime, threshold=0.5):\n",
    "    # Find the row corresponding to the target anime\n",
    "    target_row = df_numerical[df_numerical['name'] == target_anime].drop(['name', 'type'], axis=1)\n",
    "\n",
    "    # Replace 'Unknown' values in 'episodes' column with NaN\n",
    "    df_numerical['episodes'] = pd.to_numeric(df_numerical['episodes'], errors='coerce')\n",
    "\n",
    "    # Drop rows with NaN values in 'episodes' column\n",
    "    df_numerical.dropna(subset=['episodes'], inplace=True)\n",
    "\n",
    "    # Compute cosine similarity between target anime and all other anime\n",
    "    similarities = cosine_similarity(target_row, df_numerical.drop(['name', 'type'], axis=1))\n",
    "\n",
    "    # Get indices of anime with similarity above threshold\n",
    "    similar_anime_indices = np.where(similarities > threshold)[1]\n",
    "\n",
    "    # Exclude the target anime itself from recommendations\n",
    "    similar_anime_indices = similar_anime_indices[similar_anime_indices != target_row.index[0]]\n",
    "\n",
    "    # Get names of recommended anime\n",
    "    recommended_anime = df_numerical.iloc[similar_anime_indices]['name'].tolist()\n",
    "\n",
    "    return recommended_anime"
   ]
  },
  {
   "cell_type": "code",
   "execution_count": 50,
   "metadata": {},
   "outputs": [
    {
     "data": {
      "text/plain": [
       "0                      Kimi no Na wa.\n",
       "1    Fullmetal Alchemist: Brotherhood\n",
       "2                            Gintama°\n",
       "3                         Steins;Gate\n",
       "4                       Gintama&#039;\n",
       "Name: name, dtype: object"
      ]
     },
     "execution_count": 50,
     "metadata": {},
     "output_type": "execute_result"
    }
   ],
   "source": [
    "df_numerical['name'].head(5)"
   ]
  },
  {
   "cell_type": "markdown",
   "metadata": {
    "id": "5qqoKQcMTnld"
   },
   "source": [
    "### Given a target anime \"Death Note\" and recommending a list of similar anime based on cosine similarity scores with different threshold values"
   ]
  },
  {
   "cell_type": "code",
   "execution_count": 78,
   "metadata": {},
   "outputs": [
    {
     "data": {
      "image/png": "[encoded data removed]",
      "text/plain": [
       "<Figure size 300x300 with 1 Axes>"
      ]
     },
     "metadata": {},
     "output_type": "display_data"
    },
    {
     "name": "stdout",
     "output_type": "stream",
     "text": [
      "\n",
      "Recommendations for threshold 0.2:\n",
      "Recommended anime similar to 'Death Note':\n",
      "                                       Recommended Anime\n",
      "0                                         Kimi no Na wa.\n",
      "1                       Fullmetal Alchemist: Brotherhood\n",
      "2                                               Gintama°\n",
      "3                                            Steins;Gate\n",
      "4                                          Gintama&#039;\n",
      "...                                                  ...\n",
      "11819       Toushindai My Lover: Minami tai Mecha-Minami\n",
      "11820                                        Under World\n",
      "11821                     Violence Gekiga David no Hoshi\n",
      "11822  Violence Gekiga Shin David no Hoshi: Inma Dens...\n",
      "11823                   Yasuji no Pornorama: Yacchimae!!\n",
      "\n",
      "[11824 rows x 1 columns]\n",
      "\n",
      "Number of recommendations: 11824\n",
      "\n",
      "Value counts of recommended anime:\n",
      "Recommended Anime\n",
      "Saru Kani Gassen                                       2\n",
      "Shi Wan Ge Leng Xiaohua                                2\n",
      "Kimi no Na wa.                                         1\n",
      "Golden Batman                                          1\n",
      "Rebirth Moon Divergence                                1\n",
      "                                                      ..\n",
      "God Mazinger                                           1\n",
      "Grenadier: Hohoemi no Senshi                           1\n",
      "Hitomi no Naka no Shounen: Juugo Shounen Hyouryuuki    1\n",
      "Ikkitousen: Shuugaku Toushi Keppuuroku                 1\n",
      "Yasuji no Pornorama: Yacchimae!!                       1\n",
      "Name: count, Length: 11822, dtype: int64\n",
      "\n",
      "Top 5 recommendations:\n",
      "Recommended Anime\n",
      "Saru Kani Gassen           2\n",
      "Shi Wan Ge Leng Xiaohua    2\n",
      "Kimi no Na wa.             1\n",
      "Golden Batman              1\n",
      "Rebirth Moon Divergence    1\n",
      "Name: count, dtype: int64\n"
     ]
    },
    {
     "data": {
      "image/png": "[encoded data removed]",
      "text/plain": [
       "<Figure size 300x300 with 1 Axes>"
      ]
     },
     "metadata": {},
     "output_type": "display_data"
    },
    {
     "name": "stdout",
     "output_type": "stream",
     "text": [
      "\n",
      "Recommendations for threshold 0.5:\n",
      "Recommended anime similar to 'Death Note':\n",
      "                                       Recommended Anime\n",
      "0                                         Kimi no Na wa.\n",
      "1                       Fullmetal Alchemist: Brotherhood\n",
      "2                                               Gintama°\n",
      "3                                            Steins;Gate\n",
      "4                                          Gintama&#039;\n",
      "...                                                  ...\n",
      "11813       Toushindai My Lover: Minami tai Mecha-Minami\n",
      "11814                                        Under World\n",
      "11815                     Violence Gekiga David no Hoshi\n",
      "11816  Violence Gekiga Shin David no Hoshi: Inma Dens...\n",
      "11817                   Yasuji no Pornorama: Yacchimae!!\n",
      "\n",
      "[11818 rows x 1 columns]\n",
      "\n",
      "Number of recommendations: 11818\n",
      "\n",
      "Value counts of recommended anime:\n",
      "Recommended Anime\n",
      "Saru Kani Gassen                    2\n",
      "Shi Wan Ge Leng Xiaohua             2\n",
      "Kimi no Na wa.                      1\n",
      "Rebirth Moon Divergence             1\n",
      "Idol Fight Suchie-Pai 2             1\n",
      "                                   ..\n",
      "Inazuma Eleven Go Recap             1\n",
      "Itsuka Tenma no Kuro Usagi          1\n",
      "Jack to Mame no Ki                  1\n",
      "Lady Lady!! (1988)                  1\n",
      "Yasuji no Pornorama: Yacchimae!!    1\n",
      "Name: count, Length: 11816, dtype: int64\n",
      "\n",
      "Top 5 recommendations:\n",
      "Recommended Anime\n",
      "Saru Kani Gassen           2\n",
      "Shi Wan Ge Leng Xiaohua    2\n",
      "Kimi no Na wa.             1\n",
      "Rebirth Moon Divergence    1\n",
      "Idol Fight Suchie-Pai 2    1\n",
      "Name: count, dtype: int64\n"
     ]
    },
    {
     "data": {
      "image/png": "[encoded data removed]",
      "text/plain": [
       "<Figure size 300x300 with 1 Axes>"
      ]
     },
     "metadata": {},
     "output_type": "display_data"
    },
    {
     "name": "stdout",
     "output_type": "stream",
     "text": [
      "\n",
      "Recommendations for threshold 0.9:\n",
      "Recommended anime similar to 'Death Note':\n",
      "                                       Recommended Anime\n",
      "0                                         Kimi no Na wa.\n",
      "1                       Fullmetal Alchemist: Brotherhood\n",
      "2                                               Gintama°\n",
      "3                                            Steins;Gate\n",
      "4                                          Gintama&#039;\n",
      "...                                                  ...\n",
      "11781       Toushindai My Lover: Minami tai Mecha-Minami\n",
      "11782                                        Under World\n",
      "11783                     Violence Gekiga David no Hoshi\n",
      "11784  Violence Gekiga Shin David no Hoshi: Inma Dens...\n",
      "11785                   Yasuji no Pornorama: Yacchimae!!\n",
      "\n",
      "[11786 rows x 1 columns]\n",
      "\n",
      "Number of recommendations: 11786\n",
      "\n",
      "Value counts of recommended anime:\n",
      "Recommended Anime\n",
      "Saru Kani Gassen                    2\n",
      "Shi Wan Ge Leng Xiaohua             2\n",
      "Kimi no Na wa.                      1\n",
      "Oh Yoko!                            1\n",
      "Mahou no Hiroba                     1\n",
      "                                   ..\n",
      "Shinkon Gattai Godannar!!           1\n",
      "Spoon Oba-san                       1\n",
      "Stella no Mahou                     1\n",
      "Tide-Line Blue Special              1\n",
      "Yasuji no Pornorama: Yacchimae!!    1\n",
      "Name: count, Length: 11784, dtype: int64\n",
      "\n",
      "Top 5 recommendations:\n",
      "Recommended Anime\n",
      "Saru Kani Gassen           2\n",
      "Shi Wan Ge Leng Xiaohua    2\n",
      "Kimi no Na wa.             1\n",
      "Oh Yoko!                   1\n",
      "Mahou no Hiroba            1\n",
      "Name: count, dtype: int64\n"
     ]
    }
   ],
   "source": [
    "import matplotlib.pyplot as plt\n",
    "\n",
    "threshold_values = [0.2, 0.5, 0.9]\n",
    "target_anime = 'Death Note'\n",
    "\n",
    "for threshold in threshold_values:\n",
    "    # Get recommendations for the current threshold\n",
    "    recommended_anime = recommend_similar_anime(target_anime, threshold=threshold)\n",
    "\n",
    "    # Create a DataFrame to display the recommended anime\n",
    "    df_recommendations = pd.DataFrame(recommended_anime, columns=['Recommended Anime'])\n",
    "\n",
    "    # Add additional information\n",
    "    num_recommendations = len(recommended_anime)\n",
    "    value_counts = df_recommendations['Recommended Anime'].value_counts()\n",
    "    top_5_recommendations = value_counts.head(5)\n",
    "\n",
    "    # Create pie chart of the top 5 recommendations using Matplotlib\n",
    "    labels = top_5_recommendations.index\n",
    "    sizes = top_5_recommendations.values\n",
    "\n",
    "    plt.figure(figsize=(3, 3))\n",
    "    plt.pie(sizes, labels=labels, autopct='%1.1f%%', startangle=140)\n",
    "    plt.title(f'Top 5 Recommendations for Threshold {threshold}')\n",
    "    plt.axis('equal')  # Equal aspect ratio ensures the pie is drawn as a circle.\n",
    "    plt.show()\n",
    "\n",
    "    # Display the information for the current threshold\n",
    "    print(f\"\\nRecommendations for threshold {threshold}:\")\n",
    "    print(\"Recommended anime similar to '{}':\".format(target_anime))\n",
    "    print(df_recommendations)\n",
    "    print(\"\\nNumber of recommendations:\", num_recommendations)\n",
    "    print(\"\\nValue counts of recommended anime:\")\n",
    "    print(value_counts)\n",
    "    print(\"\\nTop 5 recommendations:\")\n",
    "    print(top_5_recommendations)"
   ]
  },
  {
   "cell_type": "markdown",
   "metadata": {
    "id": "NM3w5NBzWz8T"
   },
   "source": [
    "### Given a target anime \"Kimi no Na wa.\" and recommending a list of similar anime based on cosine similarity scores with different threshold values"
   ]
  },
  {
   "cell_type": "code",
   "execution_count": 77,
   "metadata": {},
   "outputs": [
    {
     "data": {
      "image/png": "[encoded data removed]",
      "text/plain": [
       "<Figure size 300x300 with 1 Axes>"
      ]
     },
     "metadata": {},
     "output_type": "display_data"
    },
    {
     "name": "stdout",
     "output_type": "stream",
     "text": [
      "\n",
      "Recommendations for threshold 0.2:\n",
      "Recommended anime similar to 'Kimi no Na wa.':\n",
      "                                       Recommended Anime\n",
      "0                       Fullmetal Alchemist: Brotherhood\n",
      "1                                               Gintama°\n",
      "2                                            Steins;Gate\n",
      "3                                          Gintama&#039;\n",
      "4      Haikyuu!!: Karasuno Koukou VS Shiratorizawa Ga...\n",
      "...                                                  ...\n",
      "11819       Toushindai My Lover: Minami tai Mecha-Minami\n",
      "11820                                        Under World\n",
      "11821                     Violence Gekiga David no Hoshi\n",
      "11822  Violence Gekiga Shin David no Hoshi: Inma Dens...\n",
      "11823                   Yasuji no Pornorama: Yacchimae!!\n",
      "\n",
      "[11824 rows x 1 columns]\n",
      "\n",
      "Number of recommendations: 11824\n",
      "\n",
      "Value counts of recommended anime:\n",
      "Recommended Anime\n",
      "Saru Kani Gassen                                       2\n",
      "Shi Wan Ge Leng Xiaohua                                2\n",
      "Fullmetal Alchemist: Brotherhood                       1\n",
      "Golden Batman                                          1\n",
      "Rebirth Moon Divergence                                1\n",
      "                                                      ..\n",
      "God Mazinger                                           1\n",
      "Grenadier: Hohoemi no Senshi                           1\n",
      "Hitomi no Naka no Shounen: Juugo Shounen Hyouryuuki    1\n",
      "Ikkitousen: Shuugaku Toushi Keppuuroku                 1\n",
      "Yasuji no Pornorama: Yacchimae!!                       1\n",
      "Name: count, Length: 11822, dtype: int64\n",
      "\n",
      "Top 5 recommendations:\n",
      "Recommended Anime\n",
      "Saru Kani Gassen                    2\n",
      "Shi Wan Ge Leng Xiaohua             2\n",
      "Fullmetal Alchemist: Brotherhood    1\n",
      "Golden Batman                       1\n",
      "Rebirth Moon Divergence             1\n",
      "Name: count, dtype: int64\n"
     ]
    },
    {
     "data": {
      "image/png": "[encoded data removed]",
      "text/plain": [
       "<Figure size 300x300 with 1 Axes>"
      ]
     },
     "metadata": {},
     "output_type": "display_data"
    },
    {
     "name": "stdout",
     "output_type": "stream",
     "text": [
      "\n",
      "Recommendations for threshold 0.5:\n",
      "Recommended anime similar to 'Kimi no Na wa.':\n",
      "                                       Recommended Anime\n",
      "0                       Fullmetal Alchemist: Brotherhood\n",
      "1                                               Gintama°\n",
      "2                                            Steins;Gate\n",
      "3                                          Gintama&#039;\n",
      "4      Haikyuu!!: Karasuno Koukou VS Shiratorizawa Ga...\n",
      "...                                                  ...\n",
      "11813       Toushindai My Lover: Minami tai Mecha-Minami\n",
      "11814                                        Under World\n",
      "11815                     Violence Gekiga David no Hoshi\n",
      "11816  Violence Gekiga Shin David no Hoshi: Inma Dens...\n",
      "11817                   Yasuji no Pornorama: Yacchimae!!\n",
      "\n",
      "[11818 rows x 1 columns]\n",
      "\n",
      "Number of recommendations: 11818\n",
      "\n",
      "Value counts of recommended anime:\n",
      "Recommended Anime\n",
      "Saru Kani Gassen                    2\n",
      "Shi Wan Ge Leng Xiaohua             2\n",
      "Fullmetal Alchemist: Brotherhood    1\n",
      "Rebirth Moon Divergence             1\n",
      "Idol Fight Suchie-Pai 2             1\n",
      "                                   ..\n",
      "Inazuma Eleven Go Recap             1\n",
      "Itsuka Tenma no Kuro Usagi          1\n",
      "Jack to Mame no Ki                  1\n",
      "Lady Lady!! (1988)                  1\n",
      "Yasuji no Pornorama: Yacchimae!!    1\n",
      "Name: count, Length: 11816, dtype: int64\n",
      "\n",
      "Top 5 recommendations:\n",
      "Recommended Anime\n",
      "Saru Kani Gassen                    2\n",
      "Shi Wan Ge Leng Xiaohua             2\n",
      "Fullmetal Alchemist: Brotherhood    1\n",
      "Rebirth Moon Divergence             1\n",
      "Idol Fight Suchie-Pai 2             1\n",
      "Name: count, dtype: int64\n"
     ]
    },
    {
     "data": {
      "image/png": "[encoded data removed]",
      "text/plain": [
       "<Figure size 300x300 with 1 Axes>"
      ]
     },
     "metadata": {},
     "output_type": "display_data"
    },
    {
     "name": "stdout",
     "output_type": "stream",
     "text": [
      "\n",
      "Recommendations for threshold 0.9:\n",
      "Recommended anime similar to 'Kimi no Na wa.':\n",
      "                                       Recommended Anime\n",
      "0                       Fullmetal Alchemist: Brotherhood\n",
      "1                                               Gintama°\n",
      "2                                            Steins;Gate\n",
      "3                                          Gintama&#039;\n",
      "4      Haikyuu!!: Karasuno Koukou VS Shiratorizawa Ga...\n",
      "...                                                  ...\n",
      "11779       Toushindai My Lover: Minami tai Mecha-Minami\n",
      "11780                                        Under World\n",
      "11781                     Violence Gekiga David no Hoshi\n",
      "11782  Violence Gekiga Shin David no Hoshi: Inma Dens...\n",
      "11783                   Yasuji no Pornorama: Yacchimae!!\n",
      "\n",
      "[11784 rows x 1 columns]\n",
      "\n",
      "Number of recommendations: 11784\n",
      "\n",
      "Value counts of recommended anime:\n",
      "Recommended Anime\n",
      "Saru Kani Gassen                          2\n",
      "Shi Wan Ge Leng Xiaohua                   2\n",
      "Osaru no Sankichi: Boukuusen              1\n",
      "Mahou no Hiroba                           1\n",
      "Osaru no Kantai                           1\n",
      "                                         ..\n",
      "Spoon Oba-san                             1\n",
      "Stella no Mahou                           1\n",
      "Tide-Line Blue Special                    1\n",
      "Toriko 3D: Kaimaku Gourmet Adventure!!    1\n",
      "Yasuji no Pornorama: Yacchimae!!          1\n",
      "Name: count, Length: 11782, dtype: int64\n",
      "\n",
      "Top 5 recommendations:\n",
      "Recommended Anime\n",
      "Saru Kani Gassen                2\n",
      "Shi Wan Ge Leng Xiaohua         2\n",
      "Osaru no Sankichi: Boukuusen    1\n",
      "Mahou no Hiroba                 1\n",
      "Osaru no Kantai                 1\n",
      "Name: count, dtype: int64\n"
     ]
    }
   ],
   "source": [
    "threshold_values = [0.2, 0.5, 0.9]\n",
    "target_anime = 'Kimi no Na wa.'\n",
    "\n",
    "for threshold in threshold_values:\n",
    "    # Get recommendations for the current threshold\n",
    "    recommended_anime = recommend_similar_anime(target_anime, threshold=threshold)\n",
    "\n",
    "    # Create a DataFrame to display the recommended anime\n",
    "    df_recommendations = pd.DataFrame(recommended_anime, columns=['Recommended Anime'])\n",
    "\n",
    "    # Add additional information\n",
    "    num_recommendations = len(recommended_anime)\n",
    "    value_counts = df_recommendations['Recommended Anime'].value_counts()\n",
    "    top_5_recommendations = value_counts.head(5)\n",
    "\n",
    "    # Create pie chart of the top 5 recommendations using Matplotlib\n",
    "    labels = top_5_recommendations.index\n",
    "    sizes = top_5_recommendations.values\n",
    "\n",
    "    plt.figure(figsize=(3, 3))\n",
    "    plt.pie(sizes, labels=labels, autopct='%1.1f%%', startangle=140)\n",
    "    plt.title(f'Top 5 Recommendations for Threshold {threshold}')\n",
    "    plt.axis('equal')  # Equal aspect ratio ensures the pie is drawn as a circle.\n",
    "    plt.show()\n",
    "\n",
    "    # Display the information for the current threshold\n",
    "    print(f\"\\nRecommendations for threshold {threshold}:\")\n",
    "    print(\"Recommended anime similar to '{}':\".format(target_anime))\n",
    "    print(df_recommendations)\n",
    "    print(\"\\nNumber of recommendations:\", num_recommendations)\n",
    "    print(\"\\nValue counts of recommended anime:\")\n",
    "    print(value_counts)\n",
    "    print(\"\\nTop 5 recommendations:\")\n",
    "    print(top_5_recommendations)"
   ]
  },
  {
   "cell_type": "markdown",
   "metadata": {
    "id": "Ua2Pwcu5XECM"
   },
   "source": [
    "### Interpretation:\n",
    "\n",
    "The insights provided by the recommendations generated for different threshold values:\n",
    "\n",
    "Here, Lower thresholds → more recommendations (more lenient)\n",
    "\n",
    "Higher thresholds → fewer recommendations (more strict)\n",
    "\n",
    "**Threshold = 0.2:**\n",
    "\n",
    "With a low threshold of 0.2, the recommendation system tends to include a larger number of anime as similar to the target anime.\n",
    "\n",
    "The number of recommendations is likely to be higher compared to higher threshold values.\n",
    "\n",
    "This may result in a more diverse set of recommendations, including anime with lower similarity scores.\n",
    "\n",
    "**Threshold = 0.5:**\n",
    "\n",
    "With a moderate threshold of 0.5, the recommendation system is more selective in choosing similar anime.\n",
    "\n",
    "The number of recommendations is likely to be moderate, balancing between inclusivity and specificity.\n",
    "\n",
    "The recommendations may include anime that share more significant similarities with the target anime.\n",
    "\n",
    "**Threshold = 0.9:**\n",
    "\n",
    "With a high threshold of 0.9, the recommendation system becomes highly selective in choosing similar anime.\n",
    "\n",
    "The number of recommendations is likely to be lower compared to lower threshold values.\n",
    "\n",
    "The recommendations may include only anime that are very closely related to the target anime, resulting in a more focused set of recommendations.\n",
    "\n",
    "As said earlier, the choice of threshold value affects the number and nature of recommendations provided by the system. Lower thresholds lead to more inclusive recommendations, while higher thresholds result in more focused recommendations."
   ]
  },
  {
   "cell_type": "markdown",
   "metadata": {
    "id": "vZ3yhosc11ob"
   },
   "source": [
    "# Evaluation:"
   ]
  },
  {
   "cell_type": "markdown",
   "metadata": {
    "id": "t5LkqpB8wmF_"
   },
   "source": [
    "#### In a recommender system, the dataset is usually split into training and testing sets, and the system is evaluated by predicting whether a user will like or interact with a particular anime"
   ]
  },
  {
   "cell_type": "code",
   "execution_count": 79,
   "metadata": {
    "colab": {
     "base_uri": "https://localhost:8080/",
     "height": 295
    },
    "id": "OtgY3ByhfGqu",
    "outputId": "41ebd22d-2a9e-41b3-f5bf-49ec42b49ae6"
   },
   "outputs": [
    {
     "data": {
      "text/html": [
       "<div>\n",
       "<style scoped>\n",
       "    .dataframe tbody tr th:only-of-type {\n",
       "        vertical-align: middle;\n",
       "    }\n",
       "\n",
       "    .dataframe tbody tr th {\n",
       "        vertical-align: top;\n",
       "    }\n",
       "\n",
       "    .dataframe thead th {\n",
       "        text-align: right;\n",
       "    }\n",
       "</style>\n",
       "<table border=\"1\" class=\"dataframe\">\n",
       "  <thead>\n",
       "    <tr style=\"text-align: right;\">\n",
       "      <th></th>\n",
       "      <th>anime_id</th>\n",
       "      <th>name</th>\n",
       "      <th>type</th>\n",
       "      <th>episodes</th>\n",
       "      <th>rating</th>\n",
       "      <th>members</th>\n",
       "      <th>Action</th>\n",
       "      <th>Adventure</th>\n",
       "      <th>Cars</th>\n",
       "      <th>Comedy</th>\n",
       "      <th>Dementia</th>\n",
       "      <th>Demons</th>\n",
       "      <th>Drama</th>\n",
       "      <th>Ecchi</th>\n",
       "      <th>Fantasy</th>\n",
       "      <th>Game</th>\n",
       "      <th>Harem</th>\n",
       "      <th>Hentai</th>\n",
       "      <th>Historical</th>\n",
       "      <th>Horror</th>\n",
       "      <th>Josei</th>\n",
       "      <th>Kids</th>\n",
       "      <th>Magic</th>\n",
       "      <th>Martial Arts</th>\n",
       "      <th>Mecha</th>\n",
       "      <th>Military</th>\n",
       "      <th>Music</th>\n",
       "      <th>Mystery</th>\n",
       "      <th>Parody</th>\n",
       "      <th>Police</th>\n",
       "      <th>Psychological</th>\n",
       "      <th>Romance</th>\n",
       "      <th>Samurai</th>\n",
       "      <th>School</th>\n",
       "      <th>Sci-Fi</th>\n",
       "      <th>Seinen</th>\n",
       "      <th>Shoujo</th>\n",
       "      <th>Shoujo Ai</th>\n",
       "      <th>Shounen</th>\n",
       "      <th>Shounen Ai</th>\n",
       "      <th>Slice of Life</th>\n",
       "      <th>Space</th>\n",
       "      <th>Sports</th>\n",
       "      <th>Super Power</th>\n",
       "      <th>Supernatural</th>\n",
       "      <th>Thriller</th>\n",
       "      <th>Vampire</th>\n",
       "      <th>Yaoi</th>\n",
       "      <th>Yuri</th>\n",
       "      <th>liked</th>\n",
       "    </tr>\n",
       "  </thead>\n",
       "  <tbody>\n",
       "    <tr>\n",
       "      <th>0</th>\n",
       "      <td>32281</td>\n",
       "      <td>Kimi no Na wa.</td>\n",
       "      <td>Movie</td>\n",
       "      <td>1.0</td>\n",
       "      <td>2.824474</td>\n",
       "      <td>3.292044</td>\n",
       "      <td>0</td>\n",
       "      <td>0</td>\n",
       "      <td>0</td>\n",
       "      <td>0</td>\n",
       "      <td>0</td>\n",
       "      <td>0</td>\n",
       "      <td>1</td>\n",
       "      <td>0</td>\n",
       "      <td>0</td>\n",
       "      <td>0</td>\n",
       "      <td>0</td>\n",
       "      <td>0</td>\n",
       "      <td>0</td>\n",
       "      <td>0</td>\n",
       "      <td>0</td>\n",
       "      <td>0</td>\n",
       "      <td>0</td>\n",
       "      <td>0</td>\n",
       "      <td>0</td>\n",
       "      <td>0</td>\n",
       "      <td>0</td>\n",
       "      <td>0</td>\n",
       "      <td>0</td>\n",
       "      <td>0</td>\n",
       "      <td>0</td>\n",
       "      <td>1</td>\n",
       "      <td>0</td>\n",
       "      <td>1</td>\n",
       "      <td>0</td>\n",
       "      <td>0</td>\n",
       "      <td>0</td>\n",
       "      <td>0</td>\n",
       "      <td>0</td>\n",
       "      <td>0</td>\n",
       "      <td>0</td>\n",
       "      <td>0</td>\n",
       "      <td>0</td>\n",
       "      <td>0</td>\n",
       "      <td>1</td>\n",
       "      <td>0</td>\n",
       "      <td>0</td>\n",
       "      <td>0</td>\n",
       "      <td>0</td>\n",
       "      <td>1</td>\n",
       "    </tr>\n",
       "    <tr>\n",
       "      <th>1</th>\n",
       "      <td>5114</td>\n",
       "      <td>Fullmetal Alchemist: Brotherhood</td>\n",
       "      <td>TV</td>\n",
       "      <td>64.0</td>\n",
       "      <td>2.717032</td>\n",
       "      <td>14.002410</td>\n",
       "      <td>1</td>\n",
       "      <td>1</td>\n",
       "      <td>0</td>\n",
       "      <td>0</td>\n",
       "      <td>0</td>\n",
       "      <td>0</td>\n",
       "      <td>1</td>\n",
       "      <td>0</td>\n",
       "      <td>1</td>\n",
       "      <td>0</td>\n",
       "      <td>0</td>\n",
       "      <td>0</td>\n",
       "      <td>0</td>\n",
       "      <td>0</td>\n",
       "      <td>0</td>\n",
       "      <td>0</td>\n",
       "      <td>1</td>\n",
       "      <td>0</td>\n",
       "      <td>0</td>\n",
       "      <td>1</td>\n",
       "      <td>0</td>\n",
       "      <td>0</td>\n",
       "      <td>0</td>\n",
       "      <td>0</td>\n",
       "      <td>0</td>\n",
       "      <td>0</td>\n",
       "      <td>0</td>\n",
       "      <td>0</td>\n",
       "      <td>0</td>\n",
       "      <td>0</td>\n",
       "      <td>0</td>\n",
       "      <td>0</td>\n",
       "      <td>1</td>\n",
       "      <td>0</td>\n",
       "      <td>0</td>\n",
       "      <td>0</td>\n",
       "      <td>0</td>\n",
       "      <td>0</td>\n",
       "      <td>0</td>\n",
       "      <td>0</td>\n",
       "      <td>0</td>\n",
       "      <td>0</td>\n",
       "      <td>0</td>\n",
       "      <td>1</td>\n",
       "    </tr>\n",
       "    <tr>\n",
       "      <th>2</th>\n",
       "      <td>28977</td>\n",
       "      <td>Gintama°</td>\n",
       "      <td>TV</td>\n",
       "      <td>51.0</td>\n",
       "      <td>2.707265</td>\n",
       "      <td>1.732216</td>\n",
       "      <td>1</td>\n",
       "      <td>0</td>\n",
       "      <td>0</td>\n",
       "      <td>1</td>\n",
       "      <td>0</td>\n",
       "      <td>0</td>\n",
       "      <td>0</td>\n",
       "      <td>0</td>\n",
       "      <td>0</td>\n",
       "      <td>0</td>\n",
       "      <td>0</td>\n",
       "      <td>0</td>\n",
       "      <td>1</td>\n",
       "      <td>0</td>\n",
       "      <td>0</td>\n",
       "      <td>0</td>\n",
       "      <td>0</td>\n",
       "      <td>0</td>\n",
       "      <td>0</td>\n",
       "      <td>0</td>\n",
       "      <td>0</td>\n",
       "      <td>0</td>\n",
       "      <td>1</td>\n",
       "      <td>0</td>\n",
       "      <td>0</td>\n",
       "      <td>0</td>\n",
       "      <td>1</td>\n",
       "      <td>0</td>\n",
       "      <td>1</td>\n",
       "      <td>0</td>\n",
       "      <td>0</td>\n",
       "      <td>0</td>\n",
       "      <td>1</td>\n",
       "      <td>0</td>\n",
       "      <td>0</td>\n",
       "      <td>0</td>\n",
       "      <td>0</td>\n",
       "      <td>0</td>\n",
       "      <td>0</td>\n",
       "      <td>0</td>\n",
       "      <td>0</td>\n",
       "      <td>0</td>\n",
       "      <td>0</td>\n",
       "      <td>1</td>\n",
       "    </tr>\n",
       "    <tr>\n",
       "      <th>3</th>\n",
       "      <td>9253</td>\n",
       "      <td>Steins;Gate</td>\n",
       "      <td>TV</td>\n",
       "      <td>24.0</td>\n",
       "      <td>2.629126</td>\n",
       "      <td>11.833499</td>\n",
       "      <td>0</td>\n",
       "      <td>0</td>\n",
       "      <td>0</td>\n",
       "      <td>0</td>\n",
       "      <td>0</td>\n",
       "      <td>0</td>\n",
       "      <td>0</td>\n",
       "      <td>0</td>\n",
       "      <td>0</td>\n",
       "      <td>0</td>\n",
       "      <td>0</td>\n",
       "      <td>0</td>\n",
       "      <td>0</td>\n",
       "      <td>0</td>\n",
       "      <td>0</td>\n",
       "      <td>0</td>\n",
       "      <td>0</td>\n",
       "      <td>0</td>\n",
       "      <td>0</td>\n",
       "      <td>0</td>\n",
       "      <td>0</td>\n",
       "      <td>0</td>\n",
       "      <td>0</td>\n",
       "      <td>0</td>\n",
       "      <td>0</td>\n",
       "      <td>0</td>\n",
       "      <td>0</td>\n",
       "      <td>0</td>\n",
       "      <td>1</td>\n",
       "      <td>0</td>\n",
       "      <td>0</td>\n",
       "      <td>0</td>\n",
       "      <td>0</td>\n",
       "      <td>0</td>\n",
       "      <td>0</td>\n",
       "      <td>0</td>\n",
       "      <td>0</td>\n",
       "      <td>0</td>\n",
       "      <td>0</td>\n",
       "      <td>1</td>\n",
       "      <td>0</td>\n",
       "      <td>0</td>\n",
       "      <td>0</td>\n",
       "      <td>1</td>\n",
       "    </tr>\n",
       "    <tr>\n",
       "      <th>4</th>\n",
       "      <td>9969</td>\n",
       "      <td>Gintama&amp;#039;</td>\n",
       "      <td>TV</td>\n",
       "      <td>51.0</td>\n",
       "      <td>2.619358</td>\n",
       "      <td>2.400518</td>\n",
       "      <td>1</td>\n",
       "      <td>0</td>\n",
       "      <td>0</td>\n",
       "      <td>1</td>\n",
       "      <td>0</td>\n",
       "      <td>0</td>\n",
       "      <td>0</td>\n",
       "      <td>0</td>\n",
       "      <td>0</td>\n",
       "      <td>0</td>\n",
       "      <td>0</td>\n",
       "      <td>0</td>\n",
       "      <td>1</td>\n",
       "      <td>0</td>\n",
       "      <td>0</td>\n",
       "      <td>0</td>\n",
       "      <td>0</td>\n",
       "      <td>0</td>\n",
       "      <td>0</td>\n",
       "      <td>0</td>\n",
       "      <td>0</td>\n",
       "      <td>0</td>\n",
       "      <td>1</td>\n",
       "      <td>0</td>\n",
       "      <td>0</td>\n",
       "      <td>0</td>\n",
       "      <td>1</td>\n",
       "      <td>0</td>\n",
       "      <td>1</td>\n",
       "      <td>0</td>\n",
       "      <td>0</td>\n",
       "      <td>0</td>\n",
       "      <td>1</td>\n",
       "      <td>0</td>\n",
       "      <td>0</td>\n",
       "      <td>0</td>\n",
       "      <td>0</td>\n",
       "      <td>0</td>\n",
       "      <td>0</td>\n",
       "      <td>0</td>\n",
       "      <td>0</td>\n",
       "      <td>0</td>\n",
       "      <td>0</td>\n",
       "      <td>1</td>\n",
       "    </tr>\n",
       "  </tbody>\n",
       "</table>\n",
       "</div>"
      ],
      "text/plain": [
       "   anime_id                              name   type  episodes    rating  \\\n",
       "0     32281                    Kimi no Na wa.  Movie       1.0  2.824474   \n",
       "1      5114  Fullmetal Alchemist: Brotherhood     TV      64.0  2.717032   \n",
       "2     28977                          Gintama°     TV      51.0  2.707265   \n",
       "3      9253                       Steins;Gate     TV      24.0  2.629126   \n",
       "4      9969                     Gintama&#039;     TV      51.0  2.619358   \n",
       "\n",
       "     members  Action  Adventure  Cars  Comedy  Dementia  Demons  Drama  Ecchi  \\\n",
       "0   3.292044       0          0     0       0         0       0      1      0   \n",
       "1  14.002410       1          1     0       0         0       0      1      0   \n",
       "2   1.732216       1          0     0       1         0       0      0      0   \n",
       "3  11.833499       0          0     0       0         0       0      0      0   \n",
       "4   2.400518       1          0     0       1         0       0      0      0   \n",
       "\n",
       "   Fantasy  Game  Harem  Hentai  Historical  Horror  Josei  Kids  Magic  \\\n",
       "0        0     0      0       0           0       0      0     0      0   \n",
       "1        1     0      0       0           0       0      0     0      1   \n",
       "2        0     0      0       0           1       0      0     0      0   \n",
       "3        0     0      0       0           0       0      0     0      0   \n",
       "4        0     0      0       0           1       0      0     0      0   \n",
       "\n",
       "   Martial Arts  Mecha  Military  Music  Mystery  Parody  Police  \\\n",
       "0             0      0         0      0        0       0       0   \n",
       "1             0      0         1      0        0       0       0   \n",
       "2             0      0         0      0        0       1       0   \n",
       "3             0      0         0      0        0       0       0   \n",
       "4             0      0         0      0        0       1       0   \n",
       "\n",
       "   Psychological  Romance  Samurai  School  Sci-Fi  Seinen  Shoujo  Shoujo Ai  \\\n",
       "0              0        1        0       1       0       0       0          0   \n",
       "1              0        0        0       0       0       0       0          0   \n",
       "2              0        0        1       0       1       0       0          0   \n",
       "3              0        0        0       0       1       0       0          0   \n",
       "4              0        0        1       0       1       0       0          0   \n",
       "\n",
       "   Shounen  Shounen Ai  Slice of Life  Space  Sports  Super Power  \\\n",
       "0        0           0              0      0       0            0   \n",
       "1        1           0              0      0       0            0   \n",
       "2        1           0              0      0       0            0   \n",
       "3        0           0              0      0       0            0   \n",
       "4        1           0              0      0       0            0   \n",
       "\n",
       "   Supernatural  Thriller  Vampire  Yaoi  Yuri  liked  \n",
       "0             1         0        0     0     0      1  \n",
       "1             0         0        0     0     0      1  \n",
       "2             0         0        0     0     0      1  \n",
       "3             0         1        0     0     0      1  \n",
       "4             0         0        0     0     0      1  "
      ]
     },
     "execution_count": 79,
     "metadata": {},
     "output_type": "execute_result"
    }
   ],
   "source": [
    "pd.set_option('display.max_columns', None)\n",
    "df_numerical.head()"
   ]
  },
  {
   "cell_type": "code",
   "execution_count": 80,
   "metadata": {
    "colab": {
     "base_uri": "https://localhost:8080/",
     "height": 337
    },
    "id": "tN9c7iRekDB7",
    "outputId": "6fd5f6f3-bc7d-4402-acfa-ab54dc16236e"
   },
   "outputs": [
    {
     "data": {
      "text/html": [
       "<div>\n",
       "<style scoped>\n",
       "    .dataframe tbody tr th:only-of-type {\n",
       "        vertical-align: middle;\n",
       "    }\n",
       "\n",
       "    .dataframe tbody tr th {\n",
       "        vertical-align: top;\n",
       "    }\n",
       "\n",
       "    .dataframe thead th {\n",
       "        text-align: right;\n",
       "    }\n",
       "</style>\n",
       "<table border=\"1\" class=\"dataframe\">\n",
       "  <thead>\n",
       "    <tr style=\"text-align: right;\">\n",
       "      <th></th>\n",
       "      <th>anime_id</th>\n",
       "      <th>episodes</th>\n",
       "      <th>rating</th>\n",
       "      <th>members</th>\n",
       "      <th>Action</th>\n",
       "      <th>Adventure</th>\n",
       "      <th>Cars</th>\n",
       "      <th>Comedy</th>\n",
       "      <th>Dementia</th>\n",
       "      <th>Demons</th>\n",
       "      <th>Drama</th>\n",
       "      <th>Ecchi</th>\n",
       "      <th>Fantasy</th>\n",
       "      <th>Game</th>\n",
       "      <th>Harem</th>\n",
       "      <th>Hentai</th>\n",
       "      <th>Historical</th>\n",
       "      <th>Horror</th>\n",
       "      <th>Josei</th>\n",
       "      <th>Kids</th>\n",
       "      <th>Magic</th>\n",
       "      <th>Martial Arts</th>\n",
       "      <th>Mecha</th>\n",
       "      <th>Military</th>\n",
       "      <th>Music</th>\n",
       "      <th>Mystery</th>\n",
       "      <th>Parody</th>\n",
       "      <th>Police</th>\n",
       "      <th>Psychological</th>\n",
       "      <th>Romance</th>\n",
       "      <th>Samurai</th>\n",
       "      <th>School</th>\n",
       "      <th>Sci-Fi</th>\n",
       "      <th>Seinen</th>\n",
       "      <th>Shoujo</th>\n",
       "      <th>Shoujo Ai</th>\n",
       "      <th>Shounen</th>\n",
       "      <th>Shounen Ai</th>\n",
       "      <th>Slice of Life</th>\n",
       "      <th>Space</th>\n",
       "      <th>Sports</th>\n",
       "      <th>Super Power</th>\n",
       "      <th>Supernatural</th>\n",
       "      <th>Thriller</th>\n",
       "      <th>Vampire</th>\n",
       "      <th>Yaoi</th>\n",
       "      <th>Yuri</th>\n",
       "      <th>liked</th>\n",
       "    </tr>\n",
       "  </thead>\n",
       "  <tbody>\n",
       "    <tr>\n",
       "      <th>count</th>\n",
       "      <td>11830.000000</td>\n",
       "      <td>11830.000000</td>\n",
       "      <td>11830.000000</td>\n",
       "      <td>11830.000000</td>\n",
       "      <td>11830.000000</td>\n",
       "      <td>11830.000000</td>\n",
       "      <td>11830.000000</td>\n",
       "      <td>11830.000000</td>\n",
       "      <td>11830.000000</td>\n",
       "      <td>11830.000000</td>\n",
       "      <td>11830.000000</td>\n",
       "      <td>11830.000000</td>\n",
       "      <td>11830.000000</td>\n",
       "      <td>11830.000000</td>\n",
       "      <td>11830.000000</td>\n",
       "      <td>11830.000000</td>\n",
       "      <td>11830.000000</td>\n",
       "      <td>11830.000000</td>\n",
       "      <td>11830.000000</td>\n",
       "      <td>11830.000000</td>\n",
       "      <td>11830.000000</td>\n",
       "      <td>11830.000000</td>\n",
       "      <td>11830.000000</td>\n",
       "      <td>11830.000000</td>\n",
       "      <td>11830.000000</td>\n",
       "      <td>11830.000000</td>\n",
       "      <td>11830.000000</td>\n",
       "      <td>11830.000000</td>\n",
       "      <td>11830.000000</td>\n",
       "      <td>11830.000000</td>\n",
       "      <td>11830.000000</td>\n",
       "      <td>11830.000000</td>\n",
       "      <td>11830.000000</td>\n",
       "      <td>11830.000000</td>\n",
       "      <td>11830.000000</td>\n",
       "      <td>11830.000000</td>\n",
       "      <td>11830.000000</td>\n",
       "      <td>11830.000000</td>\n",
       "      <td>11830.000000</td>\n",
       "      <td>11830.000000</td>\n",
       "      <td>11830.000000</td>\n",
       "      <td>11830.000000</td>\n",
       "      <td>11830.000000</td>\n",
       "      <td>11830.000000</td>\n",
       "      <td>11830.000000</td>\n",
       "      <td>11830.000000</td>\n",
       "      <td>11830.000000</td>\n",
       "      <td>11830.000000</td>\n",
       "    </tr>\n",
       "    <tr>\n",
       "      <th>mean</th>\n",
       "      <td>13404.150211</td>\n",
       "      <td>12.486729</td>\n",
       "      <td>0.006197</td>\n",
       "      <td>0.002928</td>\n",
       "      <td>0.232291</td>\n",
       "      <td>0.193829</td>\n",
       "      <td>0.006002</td>\n",
       "      <td>0.378952</td>\n",
       "      <td>0.020118</td>\n",
       "      <td>0.024260</td>\n",
       "      <td>0.166695</td>\n",
       "      <td>0.053001</td>\n",
       "      <td>0.187574</td>\n",
       "      <td>0.014370</td>\n",
       "      <td>0.026374</td>\n",
       "      <td>0.092899</td>\n",
       "      <td>0.066526</td>\n",
       "      <td>0.030431</td>\n",
       "      <td>0.004396</td>\n",
       "      <td>0.131023</td>\n",
       "      <td>0.062722</td>\n",
       "      <td>0.021809</td>\n",
       "      <td>0.078360</td>\n",
       "      <td>0.035080</td>\n",
       "      <td>0.070330</td>\n",
       "      <td>0.040744</td>\n",
       "      <td>0.033559</td>\n",
       "      <td>0.016399</td>\n",
       "      <td>0.019104</td>\n",
       "      <td>0.121386</td>\n",
       "      <td>0.012257</td>\n",
       "      <td>0.098394</td>\n",
       "      <td>0.171429</td>\n",
       "      <td>0.044801</td>\n",
       "      <td>0.049620</td>\n",
       "      <td>0.004565</td>\n",
       "      <td>0.140997</td>\n",
       "      <td>0.005241</td>\n",
       "      <td>0.099746</td>\n",
       "      <td>0.031784</td>\n",
       "      <td>0.044548</td>\n",
       "      <td>0.037616</td>\n",
       "      <td>0.083939</td>\n",
       "      <td>0.007270</td>\n",
       "      <td>0.008453</td>\n",
       "      <td>0.003128</td>\n",
       "      <td>0.003466</td>\n",
       "      <td>0.181403</td>\n",
       "    </tr>\n",
       "    <tr>\n",
       "      <th>std</th>\n",
       "      <td>11110.087616</td>\n",
       "      <td>47.097131</td>\n",
       "      <td>0.995442</td>\n",
       "      <td>1.000023</td>\n",
       "      <td>0.422311</td>\n",
       "      <td>0.395313</td>\n",
       "      <td>0.077241</td>\n",
       "      <td>0.485147</td>\n",
       "      <td>0.140411</td>\n",
       "      <td>0.153863</td>\n",
       "      <td>0.372719</td>\n",
       "      <td>0.224045</td>\n",
       "      <td>0.390388</td>\n",
       "      <td>0.119017</td>\n",
       "      <td>0.160251</td>\n",
       "      <td>0.290304</td>\n",
       "      <td>0.249209</td>\n",
       "      <td>0.171778</td>\n",
       "      <td>0.066156</td>\n",
       "      <td>0.337440</td>\n",
       "      <td>0.242472</td>\n",
       "      <td>0.146066</td>\n",
       "      <td>0.268749</td>\n",
       "      <td>0.183991</td>\n",
       "      <td>0.255713</td>\n",
       "      <td>0.197705</td>\n",
       "      <td>0.180098</td>\n",
       "      <td>0.127010</td>\n",
       "      <td>0.136896</td>\n",
       "      <td>0.326589</td>\n",
       "      <td>0.110035</td>\n",
       "      <td>0.297859</td>\n",
       "      <td>0.376899</td>\n",
       "      <td>0.206876</td>\n",
       "      <td>0.217167</td>\n",
       "      <td>0.067411</td>\n",
       "      <td>0.348034</td>\n",
       "      <td>0.072207</td>\n",
       "      <td>0.299674</td>\n",
       "      <td>0.175431</td>\n",
       "      <td>0.206317</td>\n",
       "      <td>0.190274</td>\n",
       "      <td>0.277308</td>\n",
       "      <td>0.084955</td>\n",
       "      <td>0.091555</td>\n",
       "      <td>0.055840</td>\n",
       "      <td>0.058771</td>\n",
       "      <td>0.385368</td>\n",
       "    </tr>\n",
       "    <tr>\n",
       "      <th>min</th>\n",
       "      <td>1.000000</td>\n",
       "      <td>1.000000</td>\n",
       "      <td>-4.696423</td>\n",
       "      <td>-0.331169</td>\n",
       "      <td>0.000000</td>\n",
       "      <td>0.000000</td>\n",
       "      <td>0.000000</td>\n",
       "      <td>0.000000</td>\n",
       "      <td>0.000000</td>\n",
       "      <td>0.000000</td>\n",
       "      <td>0.000000</td>\n",
       "      <td>0.000000</td>\n",
       "      <td>0.000000</td>\n",
       "      <td>0.000000</td>\n",
       "      <td>0.000000</td>\n",
       "      <td>0.000000</td>\n",
       "      <td>0.000000</td>\n",
       "      <td>0.000000</td>\n",
       "      <td>0.000000</td>\n",
       "      <td>0.000000</td>\n",
       "      <td>0.000000</td>\n",
       "      <td>0.000000</td>\n",
       "      <td>0.000000</td>\n",
       "      <td>0.000000</td>\n",
       "      <td>0.000000</td>\n",
       "      <td>0.000000</td>\n",
       "      <td>0.000000</td>\n",
       "      <td>0.000000</td>\n",
       "      <td>0.000000</td>\n",
       "      <td>0.000000</td>\n",
       "      <td>0.000000</td>\n",
       "      <td>0.000000</td>\n",
       "      <td>0.000000</td>\n",
       "      <td>0.000000</td>\n",
       "      <td>0.000000</td>\n",
       "      <td>0.000000</td>\n",
       "      <td>0.000000</td>\n",
       "      <td>0.000000</td>\n",
       "      <td>0.000000</td>\n",
       "      <td>0.000000</td>\n",
       "      <td>0.000000</td>\n",
       "      <td>0.000000</td>\n",
       "      <td>0.000000</td>\n",
       "      <td>0.000000</td>\n",
       "      <td>0.000000</td>\n",
       "      <td>0.000000</td>\n",
       "      <td>0.000000</td>\n",
       "      <td>0.000000</td>\n",
       "    </tr>\n",
       "    <tr>\n",
       "      <th>25%</th>\n",
       "      <td>3326.250000</td>\n",
       "      <td>1.000000</td>\n",
       "      <td>-0.572139</td>\n",
       "      <td>-0.327191</td>\n",
       "      <td>0.000000</td>\n",
       "      <td>0.000000</td>\n",
       "      <td>0.000000</td>\n",
       "      <td>0.000000</td>\n",
       "      <td>0.000000</td>\n",
       "      <td>0.000000</td>\n",
       "      <td>0.000000</td>\n",
       "      <td>0.000000</td>\n",
       "      <td>0.000000</td>\n",
       "      <td>0.000000</td>\n",
       "      <td>0.000000</td>\n",
       "      <td>0.000000</td>\n",
       "      <td>0.000000</td>\n",
       "      <td>0.000000</td>\n",
       "      <td>0.000000</td>\n",
       "      <td>0.000000</td>\n",
       "      <td>0.000000</td>\n",
       "      <td>0.000000</td>\n",
       "      <td>0.000000</td>\n",
       "      <td>0.000000</td>\n",
       "      <td>0.000000</td>\n",
       "      <td>0.000000</td>\n",
       "      <td>0.000000</td>\n",
       "      <td>0.000000</td>\n",
       "      <td>0.000000</td>\n",
       "      <td>0.000000</td>\n",
       "      <td>0.000000</td>\n",
       "      <td>0.000000</td>\n",
       "      <td>0.000000</td>\n",
       "      <td>0.000000</td>\n",
       "      <td>0.000000</td>\n",
       "      <td>0.000000</td>\n",
       "      <td>0.000000</td>\n",
       "      <td>0.000000</td>\n",
       "      <td>0.000000</td>\n",
       "      <td>0.000000</td>\n",
       "      <td>0.000000</td>\n",
       "      <td>0.000000</td>\n",
       "      <td>0.000000</td>\n",
       "      <td>0.000000</td>\n",
       "      <td>0.000000</td>\n",
       "      <td>0.000000</td>\n",
       "      <td>0.000000</td>\n",
       "      <td>0.000000</td>\n",
       "    </tr>\n",
       "    <tr>\n",
       "      <th>50%</th>\n",
       "      <td>9820.500000</td>\n",
       "      <td>2.000000</td>\n",
       "      <td>0.089602</td>\n",
       "      <td>-0.302679</td>\n",
       "      <td>0.000000</td>\n",
       "      <td>0.000000</td>\n",
       "      <td>0.000000</td>\n",
       "      <td>0.000000</td>\n",
       "      <td>0.000000</td>\n",
       "      <td>0.000000</td>\n",
       "      <td>0.000000</td>\n",
       "      <td>0.000000</td>\n",
       "      <td>0.000000</td>\n",
       "      <td>0.000000</td>\n",
       "      <td>0.000000</td>\n",
       "      <td>0.000000</td>\n",
       "      <td>0.000000</td>\n",
       "      <td>0.000000</td>\n",
       "      <td>0.000000</td>\n",
       "      <td>0.000000</td>\n",
       "      <td>0.000000</td>\n",
       "      <td>0.000000</td>\n",
       "      <td>0.000000</td>\n",
       "      <td>0.000000</td>\n",
       "      <td>0.000000</td>\n",
       "      <td>0.000000</td>\n",
       "      <td>0.000000</td>\n",
       "      <td>0.000000</td>\n",
       "      <td>0.000000</td>\n",
       "      <td>0.000000</td>\n",
       "      <td>0.000000</td>\n",
       "      <td>0.000000</td>\n",
       "      <td>0.000000</td>\n",
       "      <td>0.000000</td>\n",
       "      <td>0.000000</td>\n",
       "      <td>0.000000</td>\n",
       "      <td>0.000000</td>\n",
       "      <td>0.000000</td>\n",
       "      <td>0.000000</td>\n",
       "      <td>0.000000</td>\n",
       "      <td>0.000000</td>\n",
       "      <td>0.000000</td>\n",
       "      <td>0.000000</td>\n",
       "      <td>0.000000</td>\n",
       "      <td>0.000000</td>\n",
       "      <td>0.000000</td>\n",
       "      <td>0.000000</td>\n",
       "      <td>0.000000</td>\n",
       "    </tr>\n",
       "    <tr>\n",
       "      <th>75%</th>\n",
       "      <td>23302.500000</td>\n",
       "      <td>12.000000</td>\n",
       "      <td>0.695181</td>\n",
       "      <td>-0.153817</td>\n",
       "      <td>0.000000</td>\n",
       "      <td>0.000000</td>\n",
       "      <td>0.000000</td>\n",
       "      <td>1.000000</td>\n",
       "      <td>0.000000</td>\n",
       "      <td>0.000000</td>\n",
       "      <td>0.000000</td>\n",
       "      <td>0.000000</td>\n",
       "      <td>0.000000</td>\n",
       "      <td>0.000000</td>\n",
       "      <td>0.000000</td>\n",
       "      <td>0.000000</td>\n",
       "      <td>0.000000</td>\n",
       "      <td>0.000000</td>\n",
       "      <td>0.000000</td>\n",
       "      <td>0.000000</td>\n",
       "      <td>0.000000</td>\n",
       "      <td>0.000000</td>\n",
       "      <td>0.000000</td>\n",
       "      <td>0.000000</td>\n",
       "      <td>0.000000</td>\n",
       "      <td>0.000000</td>\n",
       "      <td>0.000000</td>\n",
       "      <td>0.000000</td>\n",
       "      <td>0.000000</td>\n",
       "      <td>0.000000</td>\n",
       "      <td>0.000000</td>\n",
       "      <td>0.000000</td>\n",
       "      <td>0.000000</td>\n",
       "      <td>0.000000</td>\n",
       "      <td>0.000000</td>\n",
       "      <td>0.000000</td>\n",
       "      <td>0.000000</td>\n",
       "      <td>0.000000</td>\n",
       "      <td>0.000000</td>\n",
       "      <td>0.000000</td>\n",
       "      <td>0.000000</td>\n",
       "      <td>0.000000</td>\n",
       "      <td>0.000000</td>\n",
       "      <td>0.000000</td>\n",
       "      <td>0.000000</td>\n",
       "      <td>0.000000</td>\n",
       "      <td>0.000000</td>\n",
       "      <td>0.000000</td>\n",
       "    </tr>\n",
       "    <tr>\n",
       "      <th>max</th>\n",
       "      <td>34519.000000</td>\n",
       "      <td>1818.000000</td>\n",
       "      <td>3.439820</td>\n",
       "      <td>17.980218</td>\n",
       "      <td>1.000000</td>\n",
       "      <td>1.000000</td>\n",
       "      <td>1.000000</td>\n",
       "      <td>1.000000</td>\n",
       "      <td>1.000000</td>\n",
       "      <td>1.000000</td>\n",
       "      <td>1.000000</td>\n",
       "      <td>1.000000</td>\n",
       "      <td>1.000000</td>\n",
       "      <td>1.000000</td>\n",
       "      <td>1.000000</td>\n",
       "      <td>1.000000</td>\n",
       "      <td>1.000000</td>\n",
       "      <td>1.000000</td>\n",
       "      <td>1.000000</td>\n",
       "      <td>1.000000</td>\n",
       "      <td>1.000000</td>\n",
       "      <td>1.000000</td>\n",
       "      <td>1.000000</td>\n",
       "      <td>1.000000</td>\n",
       "      <td>1.000000</td>\n",
       "      <td>1.000000</td>\n",
       "      <td>1.000000</td>\n",
       "      <td>1.000000</td>\n",
       "      <td>1.000000</td>\n",
       "      <td>1.000000</td>\n",
       "      <td>1.000000</td>\n",
       "      <td>1.000000</td>\n",
       "      <td>1.000000</td>\n",
       "      <td>1.000000</td>\n",
       "      <td>1.000000</td>\n",
       "      <td>1.000000</td>\n",
       "      <td>1.000000</td>\n",
       "      <td>1.000000</td>\n",
       "      <td>1.000000</td>\n",
       "      <td>1.000000</td>\n",
       "      <td>1.000000</td>\n",
       "      <td>1.000000</td>\n",
       "      <td>1.000000</td>\n",
       "      <td>1.000000</td>\n",
       "      <td>1.000000</td>\n",
       "      <td>1.000000</td>\n",
       "      <td>1.000000</td>\n",
       "      <td>1.000000</td>\n",
       "    </tr>\n",
       "  </tbody>\n",
       "</table>\n",
       "</div>"
      ],
      "text/plain": [
       "           anime_id      episodes        rating       members        Action  \\\n",
       "count  11830.000000  11830.000000  11830.000000  11830.000000  11830.000000   \n",
       "mean   13404.150211     12.486729      0.006197      0.002928      0.232291   \n",
       "std    11110.087616     47.097131      0.995442      1.000023      0.422311   \n",
       "min        1.000000      1.000000     -4.696423     -0.331169      0.000000   \n",
       "25%     3326.250000      1.000000     -0.572139     -0.327191      0.000000   \n",
       "50%     9820.500000      2.000000      0.089602     -0.302679      0.000000   \n",
       "75%    23302.500000     12.000000      0.695181     -0.153817      0.000000   \n",
       "max    34519.000000   1818.000000      3.439820     17.980218      1.000000   \n",
       "\n",
       "          Adventure          Cars        Comedy      Dementia        Demons  \\\n",
       "count  11830.000000  11830.000000  11830.000000  11830.000000  11830.000000   \n",
       "mean       0.193829      0.006002      0.378952      0.020118      0.024260   \n",
       "std        0.395313      0.077241      0.485147      0.140411      0.153863   \n",
       "min        0.000000      0.000000      0.000000      0.000000      0.000000   \n",
       "25%        0.000000      0.000000      0.000000      0.000000      0.000000   \n",
       "50%        0.000000      0.000000      0.000000      0.000000      0.000000   \n",
       "75%        0.000000      0.000000      1.000000      0.000000      0.000000   \n",
       "max        1.000000      1.000000      1.000000      1.000000      1.000000   \n",
       "\n",
       "              Drama         Ecchi       Fantasy          Game         Harem  \\\n",
       "count  11830.000000  11830.000000  11830.000000  11830.000000  11830.000000   \n",
       "mean       0.166695      0.053001      0.187574      0.014370      0.026374   \n",
       "std        0.372719      0.224045      0.390388      0.119017      0.160251   \n",
       "min        0.000000      0.000000      0.000000      0.000000      0.000000   \n",
       "25%        0.000000      0.000000      0.000000      0.000000      0.000000   \n",
       "50%        0.000000      0.000000      0.000000      0.000000      0.000000   \n",
       "75%        0.000000      0.000000      0.000000      0.000000      0.000000   \n",
       "max        1.000000      1.000000      1.000000      1.000000      1.000000   \n",
       "\n",
       "             Hentai    Historical        Horror         Josei          Kids  \\\n",
       "count  11830.000000  11830.000000  11830.000000  11830.000000  11830.000000   \n",
       "mean       0.092899      0.066526      0.030431      0.004396      0.131023   \n",
       "std        0.290304      0.249209      0.171778      0.066156      0.337440   \n",
       "min        0.000000      0.000000      0.000000      0.000000      0.000000   \n",
       "25%        0.000000      0.000000      0.000000      0.000000      0.000000   \n",
       "50%        0.000000      0.000000      0.000000      0.000000      0.000000   \n",
       "75%        0.000000      0.000000      0.000000      0.000000      0.000000   \n",
       "max        1.000000      1.000000      1.000000      1.000000      1.000000   \n",
       "\n",
       "              Magic  Martial Arts         Mecha      Military         Music  \\\n",
       "count  11830.000000  11830.000000  11830.000000  11830.000000  11830.000000   \n",
       "mean       0.062722      0.021809      0.078360      0.035080      0.070330   \n",
       "std        0.242472      0.146066      0.268749      0.183991      0.255713   \n",
       "min        0.000000      0.000000      0.000000      0.000000      0.000000   \n",
       "25%        0.000000      0.000000      0.000000      0.000000      0.000000   \n",
       "50%        0.000000      0.000000      0.000000      0.000000      0.000000   \n",
       "75%        0.000000      0.000000      0.000000      0.000000      0.000000   \n",
       "max        1.000000      1.000000      1.000000      1.000000      1.000000   \n",
       "\n",
       "            Mystery        Parody        Police  Psychological       Romance  \\\n",
       "count  11830.000000  11830.000000  11830.000000   11830.000000  11830.000000   \n",
       "mean       0.040744      0.033559      0.016399       0.019104      0.121386   \n",
       "std        0.197705      0.180098      0.127010       0.136896      0.326589   \n",
       "min        0.000000      0.000000      0.000000       0.000000      0.000000   \n",
       "25%        0.000000      0.000000      0.000000       0.000000      0.000000   \n",
       "50%        0.000000      0.000000      0.000000       0.000000      0.000000   \n",
       "75%        0.000000      0.000000      0.000000       0.000000      0.000000   \n",
       "max        1.000000      1.000000      1.000000       1.000000      1.000000   \n",
       "\n",
       "            Samurai        School        Sci-Fi        Seinen        Shoujo  \\\n",
       "count  11830.000000  11830.000000  11830.000000  11830.000000  11830.000000   \n",
       "mean       0.012257      0.098394      0.171429      0.044801      0.049620   \n",
       "std        0.110035      0.297859      0.376899      0.206876      0.217167   \n",
       "min        0.000000      0.000000      0.000000      0.000000      0.000000   \n",
       "25%        0.000000      0.000000      0.000000      0.000000      0.000000   \n",
       "50%        0.000000      0.000000      0.000000      0.000000      0.000000   \n",
       "75%        0.000000      0.000000      0.000000      0.000000      0.000000   \n",
       "max        1.000000      1.000000      1.000000      1.000000      1.000000   \n",
       "\n",
       "          Shoujo Ai       Shounen    Shounen Ai  Slice of Life         Space  \\\n",
       "count  11830.000000  11830.000000  11830.000000   11830.000000  11830.000000   \n",
       "mean       0.004565      0.140997      0.005241       0.099746      0.031784   \n",
       "std        0.067411      0.348034      0.072207       0.299674      0.175431   \n",
       "min        0.000000      0.000000      0.000000       0.000000      0.000000   \n",
       "25%        0.000000      0.000000      0.000000       0.000000      0.000000   \n",
       "50%        0.000000      0.000000      0.000000       0.000000      0.000000   \n",
       "75%        0.000000      0.000000      0.000000       0.000000      0.000000   \n",
       "max        1.000000      1.000000      1.000000       1.000000      1.000000   \n",
       "\n",
       "             Sports   Super Power  Supernatural      Thriller       Vampire  \\\n",
       "count  11830.000000  11830.000000  11830.000000  11830.000000  11830.000000   \n",
       "mean       0.044548      0.037616      0.083939      0.007270      0.008453   \n",
       "std        0.206317      0.190274      0.277308      0.084955      0.091555   \n",
       "min        0.000000      0.000000      0.000000      0.000000      0.000000   \n",
       "25%        0.000000      0.000000      0.000000      0.000000      0.000000   \n",
       "50%        0.000000      0.000000      0.000000      0.000000      0.000000   \n",
       "75%        0.000000      0.000000      0.000000      0.000000      0.000000   \n",
       "max        1.000000      1.000000      1.000000      1.000000      1.000000   \n",
       "\n",
       "               Yaoi          Yuri         liked  \n",
       "count  11830.000000  11830.000000  11830.000000  \n",
       "mean       0.003128      0.003466      0.181403  \n",
       "std        0.055840      0.058771      0.385368  \n",
       "min        0.000000      0.000000      0.000000  \n",
       "25%        0.000000      0.000000      0.000000  \n",
       "50%        0.000000      0.000000      0.000000  \n",
       "75%        0.000000      0.000000      0.000000  \n",
       "max        1.000000      1.000000      1.000000  "
      ]
     },
     "execution_count": 80,
     "metadata": {},
     "output_type": "execute_result"
    }
   ],
   "source": [
    "df_numerical.describe()"
   ]
  },
  {
   "cell_type": "code",
   "execution_count": 81,
   "metadata": {
    "colab": {
     "base_uri": "https://localhost:8080/"
    },
    "id": "9uWUGciHj6Ez",
    "outputId": "57366aea-d9e9-45de-c942-9308d2f3e6a8"
   },
   "outputs": [
    {
     "name": "stdout",
     "output_type": "stream",
     "text": [
      "Threshold values:\n",
      "Episodes threshold: 59.58186967572351\n",
      "Rating threshold: 1.001596873109577\n",
      "Members threshold: 1.0029082457034968\n"
     ]
    }
   ],
   "source": [
    "# Calculate mean and standard deviation for episodes, rating, and members\n",
    "mean_episodes = 12.486729\n",
    "mean_rating = 0.006197\n",
    "mean_members = 0.002928\n",
    "\n",
    "std_dev_episodes = np.std(df_numerical['episodes'])\n",
    "std_dev_rating = np.std(df_numerical['rating'])\n",
    "std_dev_members = np.std(df_numerical['members'])\n",
    "\n",
    "# Set threshold values\n",
    "episodes_threshold = mean_episodes + std_dev_episodes\n",
    "rating_threshold = mean_rating + std_dev_rating\n",
    "members_threshold = mean_members + std_dev_members\n",
    "\n",
    "print(\"Threshold values:\")\n",
    "print(\"Episodes threshold:\", episodes_threshold)\n",
    "print(\"Rating threshold:\", rating_threshold)\n",
    "print(\"Members threshold:\", members_threshold)"
   ]
  },
  {
   "cell_type": "code",
   "execution_count": 82,
   "metadata": {
    "colab": {
     "base_uri": "https://localhost:8080/",
     "height": 295
    },
    "id": "IAumakQ3iuqL",
    "outputId": "f1dc901e-9526-4239-9e0e-295c2d9cced7"
   },
   "outputs": [
    {
     "data": {
      "text/html": [
       "<div>\n",
       "<style scoped>\n",
       "    .dataframe tbody tr th:only-of-type {\n",
       "        vertical-align: middle;\n",
       "    }\n",
       "\n",
       "    .dataframe tbody tr th {\n",
       "        vertical-align: top;\n",
       "    }\n",
       "\n",
       "    .dataframe thead th {\n",
       "        text-align: right;\n",
       "    }\n",
       "</style>\n",
       "<table border=\"1\" class=\"dataframe\">\n",
       "  <thead>\n",
       "    <tr style=\"text-align: right;\">\n",
       "      <th></th>\n",
       "      <th>anime_id</th>\n",
       "      <th>name</th>\n",
       "      <th>type</th>\n",
       "      <th>episodes</th>\n",
       "      <th>rating</th>\n",
       "      <th>members</th>\n",
       "      <th>Action</th>\n",
       "      <th>Adventure</th>\n",
       "      <th>Cars</th>\n",
       "      <th>Comedy</th>\n",
       "      <th>Dementia</th>\n",
       "      <th>Demons</th>\n",
       "      <th>Drama</th>\n",
       "      <th>Ecchi</th>\n",
       "      <th>Fantasy</th>\n",
       "      <th>Game</th>\n",
       "      <th>Harem</th>\n",
       "      <th>Hentai</th>\n",
       "      <th>Historical</th>\n",
       "      <th>Horror</th>\n",
       "      <th>Josei</th>\n",
       "      <th>Kids</th>\n",
       "      <th>Magic</th>\n",
       "      <th>Martial Arts</th>\n",
       "      <th>Mecha</th>\n",
       "      <th>Military</th>\n",
       "      <th>Music</th>\n",
       "      <th>Mystery</th>\n",
       "      <th>Parody</th>\n",
       "      <th>Police</th>\n",
       "      <th>Psychological</th>\n",
       "      <th>Romance</th>\n",
       "      <th>Samurai</th>\n",
       "      <th>School</th>\n",
       "      <th>Sci-Fi</th>\n",
       "      <th>Seinen</th>\n",
       "      <th>Shoujo</th>\n",
       "      <th>Shoujo Ai</th>\n",
       "      <th>Shounen</th>\n",
       "      <th>Shounen Ai</th>\n",
       "      <th>Slice of Life</th>\n",
       "      <th>Space</th>\n",
       "      <th>Sports</th>\n",
       "      <th>Super Power</th>\n",
       "      <th>Supernatural</th>\n",
       "      <th>Thriller</th>\n",
       "      <th>Vampire</th>\n",
       "      <th>Yaoi</th>\n",
       "      <th>Yuri</th>\n",
       "      <th>liked</th>\n",
       "    </tr>\n",
       "  </thead>\n",
       "  <tbody>\n",
       "    <tr>\n",
       "      <th>0</th>\n",
       "      <td>32281</td>\n",
       "      <td>Kimi no Na wa.</td>\n",
       "      <td>Movie</td>\n",
       "      <td>1.0</td>\n",
       "      <td>2.824474</td>\n",
       "      <td>3.292044</td>\n",
       "      <td>0</td>\n",
       "      <td>0</td>\n",
       "      <td>0</td>\n",
       "      <td>0</td>\n",
       "      <td>0</td>\n",
       "      <td>0</td>\n",
       "      <td>1</td>\n",
       "      <td>0</td>\n",
       "      <td>0</td>\n",
       "      <td>0</td>\n",
       "      <td>0</td>\n",
       "      <td>0</td>\n",
       "      <td>0</td>\n",
       "      <td>0</td>\n",
       "      <td>0</td>\n",
       "      <td>0</td>\n",
       "      <td>0</td>\n",
       "      <td>0</td>\n",
       "      <td>0</td>\n",
       "      <td>0</td>\n",
       "      <td>0</td>\n",
       "      <td>0</td>\n",
       "      <td>0</td>\n",
       "      <td>0</td>\n",
       "      <td>0</td>\n",
       "      <td>1</td>\n",
       "      <td>0</td>\n",
       "      <td>1</td>\n",
       "      <td>0</td>\n",
       "      <td>0</td>\n",
       "      <td>0</td>\n",
       "      <td>0</td>\n",
       "      <td>0</td>\n",
       "      <td>0</td>\n",
       "      <td>0</td>\n",
       "      <td>0</td>\n",
       "      <td>0</td>\n",
       "      <td>0</td>\n",
       "      <td>1</td>\n",
       "      <td>0</td>\n",
       "      <td>0</td>\n",
       "      <td>0</td>\n",
       "      <td>0</td>\n",
       "      <td>1</td>\n",
       "    </tr>\n",
       "    <tr>\n",
       "      <th>1</th>\n",
       "      <td>5114</td>\n",
       "      <td>Fullmetal Alchemist: Brotherhood</td>\n",
       "      <td>TV</td>\n",
       "      <td>64.0</td>\n",
       "      <td>2.717032</td>\n",
       "      <td>14.002410</td>\n",
       "      <td>1</td>\n",
       "      <td>1</td>\n",
       "      <td>0</td>\n",
       "      <td>0</td>\n",
       "      <td>0</td>\n",
       "      <td>0</td>\n",
       "      <td>1</td>\n",
       "      <td>0</td>\n",
       "      <td>1</td>\n",
       "      <td>0</td>\n",
       "      <td>0</td>\n",
       "      <td>0</td>\n",
       "      <td>0</td>\n",
       "      <td>0</td>\n",
       "      <td>0</td>\n",
       "      <td>0</td>\n",
       "      <td>1</td>\n",
       "      <td>0</td>\n",
       "      <td>0</td>\n",
       "      <td>1</td>\n",
       "      <td>0</td>\n",
       "      <td>0</td>\n",
       "      <td>0</td>\n",
       "      <td>0</td>\n",
       "      <td>0</td>\n",
       "      <td>0</td>\n",
       "      <td>0</td>\n",
       "      <td>0</td>\n",
       "      <td>0</td>\n",
       "      <td>0</td>\n",
       "      <td>0</td>\n",
       "      <td>0</td>\n",
       "      <td>1</td>\n",
       "      <td>0</td>\n",
       "      <td>0</td>\n",
       "      <td>0</td>\n",
       "      <td>0</td>\n",
       "      <td>0</td>\n",
       "      <td>0</td>\n",
       "      <td>0</td>\n",
       "      <td>0</td>\n",
       "      <td>0</td>\n",
       "      <td>0</td>\n",
       "      <td>1</td>\n",
       "    </tr>\n",
       "    <tr>\n",
       "      <th>2</th>\n",
       "      <td>28977</td>\n",
       "      <td>Gintama°</td>\n",
       "      <td>TV</td>\n",
       "      <td>51.0</td>\n",
       "      <td>2.707265</td>\n",
       "      <td>1.732216</td>\n",
       "      <td>1</td>\n",
       "      <td>0</td>\n",
       "      <td>0</td>\n",
       "      <td>1</td>\n",
       "      <td>0</td>\n",
       "      <td>0</td>\n",
       "      <td>0</td>\n",
       "      <td>0</td>\n",
       "      <td>0</td>\n",
       "      <td>0</td>\n",
       "      <td>0</td>\n",
       "      <td>0</td>\n",
       "      <td>1</td>\n",
       "      <td>0</td>\n",
       "      <td>0</td>\n",
       "      <td>0</td>\n",
       "      <td>0</td>\n",
       "      <td>0</td>\n",
       "      <td>0</td>\n",
       "      <td>0</td>\n",
       "      <td>0</td>\n",
       "      <td>0</td>\n",
       "      <td>1</td>\n",
       "      <td>0</td>\n",
       "      <td>0</td>\n",
       "      <td>0</td>\n",
       "      <td>1</td>\n",
       "      <td>0</td>\n",
       "      <td>1</td>\n",
       "      <td>0</td>\n",
       "      <td>0</td>\n",
       "      <td>0</td>\n",
       "      <td>1</td>\n",
       "      <td>0</td>\n",
       "      <td>0</td>\n",
       "      <td>0</td>\n",
       "      <td>0</td>\n",
       "      <td>0</td>\n",
       "      <td>0</td>\n",
       "      <td>0</td>\n",
       "      <td>0</td>\n",
       "      <td>0</td>\n",
       "      <td>0</td>\n",
       "      <td>1</td>\n",
       "    </tr>\n",
       "    <tr>\n",
       "      <th>3</th>\n",
       "      <td>9253</td>\n",
       "      <td>Steins;Gate</td>\n",
       "      <td>TV</td>\n",
       "      <td>24.0</td>\n",
       "      <td>2.629126</td>\n",
       "      <td>11.833499</td>\n",
       "      <td>0</td>\n",
       "      <td>0</td>\n",
       "      <td>0</td>\n",
       "      <td>0</td>\n",
       "      <td>0</td>\n",
       "      <td>0</td>\n",
       "      <td>0</td>\n",
       "      <td>0</td>\n",
       "      <td>0</td>\n",
       "      <td>0</td>\n",
       "      <td>0</td>\n",
       "      <td>0</td>\n",
       "      <td>0</td>\n",
       "      <td>0</td>\n",
       "      <td>0</td>\n",
       "      <td>0</td>\n",
       "      <td>0</td>\n",
       "      <td>0</td>\n",
       "      <td>0</td>\n",
       "      <td>0</td>\n",
       "      <td>0</td>\n",
       "      <td>0</td>\n",
       "      <td>0</td>\n",
       "      <td>0</td>\n",
       "      <td>0</td>\n",
       "      <td>0</td>\n",
       "      <td>0</td>\n",
       "      <td>0</td>\n",
       "      <td>1</td>\n",
       "      <td>0</td>\n",
       "      <td>0</td>\n",
       "      <td>0</td>\n",
       "      <td>0</td>\n",
       "      <td>0</td>\n",
       "      <td>0</td>\n",
       "      <td>0</td>\n",
       "      <td>0</td>\n",
       "      <td>0</td>\n",
       "      <td>0</td>\n",
       "      <td>1</td>\n",
       "      <td>0</td>\n",
       "      <td>0</td>\n",
       "      <td>0</td>\n",
       "      <td>1</td>\n",
       "    </tr>\n",
       "    <tr>\n",
       "      <th>4</th>\n",
       "      <td>9969</td>\n",
       "      <td>Gintama&amp;#039;</td>\n",
       "      <td>TV</td>\n",
       "      <td>51.0</td>\n",
       "      <td>2.619358</td>\n",
       "      <td>2.400518</td>\n",
       "      <td>1</td>\n",
       "      <td>0</td>\n",
       "      <td>0</td>\n",
       "      <td>1</td>\n",
       "      <td>0</td>\n",
       "      <td>0</td>\n",
       "      <td>0</td>\n",
       "      <td>0</td>\n",
       "      <td>0</td>\n",
       "      <td>0</td>\n",
       "      <td>0</td>\n",
       "      <td>0</td>\n",
       "      <td>1</td>\n",
       "      <td>0</td>\n",
       "      <td>0</td>\n",
       "      <td>0</td>\n",
       "      <td>0</td>\n",
       "      <td>0</td>\n",
       "      <td>0</td>\n",
       "      <td>0</td>\n",
       "      <td>0</td>\n",
       "      <td>0</td>\n",
       "      <td>1</td>\n",
       "      <td>0</td>\n",
       "      <td>0</td>\n",
       "      <td>0</td>\n",
       "      <td>1</td>\n",
       "      <td>0</td>\n",
       "      <td>1</td>\n",
       "      <td>0</td>\n",
       "      <td>0</td>\n",
       "      <td>0</td>\n",
       "      <td>1</td>\n",
       "      <td>0</td>\n",
       "      <td>0</td>\n",
       "      <td>0</td>\n",
       "      <td>0</td>\n",
       "      <td>0</td>\n",
       "      <td>0</td>\n",
       "      <td>0</td>\n",
       "      <td>0</td>\n",
       "      <td>0</td>\n",
       "      <td>0</td>\n",
       "      <td>1</td>\n",
       "    </tr>\n",
       "  </tbody>\n",
       "</table>\n",
       "</div>"
      ],
      "text/plain": [
       "   anime_id                              name   type  episodes    rating  \\\n",
       "0     32281                    Kimi no Na wa.  Movie       1.0  2.824474   \n",
       "1      5114  Fullmetal Alchemist: Brotherhood     TV      64.0  2.717032   \n",
       "2     28977                          Gintama°     TV      51.0  2.707265   \n",
       "3      9253                       Steins;Gate     TV      24.0  2.629126   \n",
       "4      9969                     Gintama&#039;     TV      51.0  2.619358   \n",
       "\n",
       "     members  Action  Adventure  Cars  Comedy  Dementia  Demons  Drama  Ecchi  \\\n",
       "0   3.292044       0          0     0       0         0       0      1      0   \n",
       "1  14.002410       1          1     0       0         0       0      1      0   \n",
       "2   1.732216       1          0     0       1         0       0      0      0   \n",
       "3  11.833499       0          0     0       0         0       0      0      0   \n",
       "4   2.400518       1          0     0       1         0       0      0      0   \n",
       "\n",
       "   Fantasy  Game  Harem  Hentai  Historical  Horror  Josei  Kids  Magic  \\\n",
       "0        0     0      0       0           0       0      0     0      0   \n",
       "1        1     0      0       0           0       0      0     0      1   \n",
       "2        0     0      0       0           1       0      0     0      0   \n",
       "3        0     0      0       0           0       0      0     0      0   \n",
       "4        0     0      0       0           1       0      0     0      0   \n",
       "\n",
       "   Martial Arts  Mecha  Military  Music  Mystery  Parody  Police  \\\n",
       "0             0      0         0      0        0       0       0   \n",
       "1             0      0         1      0        0       0       0   \n",
       "2             0      0         0      0        0       1       0   \n",
       "3             0      0         0      0        0       0       0   \n",
       "4             0      0         0      0        0       1       0   \n",
       "\n",
       "   Psychological  Romance  Samurai  School  Sci-Fi  Seinen  Shoujo  Shoujo Ai  \\\n",
       "0              0        1        0       1       0       0       0          0   \n",
       "1              0        0        0       0       0       0       0          0   \n",
       "2              0        0        1       0       1       0       0          0   \n",
       "3              0        0        0       0       1       0       0          0   \n",
       "4              0        0        1       0       1       0       0          0   \n",
       "\n",
       "   Shounen  Shounen Ai  Slice of Life  Space  Sports  Super Power  \\\n",
       "0        0           0              0      0       0            0   \n",
       "1        1           0              0      0       0            0   \n",
       "2        1           0              0      0       0            0   \n",
       "3        0           0              0      0       0            0   \n",
       "4        1           0              0      0       0            0   \n",
       "\n",
       "   Supernatural  Thriller  Vampire  Yaoi  Yuri  liked  \n",
       "0             1         0        0     0     0      1  \n",
       "1             0         0        0     0     0      1  \n",
       "2             0         0        0     0     0      1  \n",
       "3             0         1        0     0     0      1  \n",
       "4             0         0        0     0     0      1  "
      ]
     },
     "execution_count": 82,
     "metadata": {},
     "output_type": "execute_result"
    }
   ],
   "source": [
    "# Define threshold values for ratings, episodes, and members\n",
    "rating_threshold = 1.001596873109577\n",
    "episodes_threshold = 59.58186967572351\n",
    "members_threshold = 1.0029082457034968\n",
    "\n",
    "# Create binary target variable based on thresholds\n",
    "df_numerical['liked'] = ((df_numerical['rating'] >= rating_threshold) |\n",
    "                         (df_numerical['episodes'] >= episodes_threshold) |\n",
    "                         (df_numerical['members'] >= members_threshold)).astype(int)\n",
    "\n",
    "# Display the updated dataset with the new 'liked' column\n",
    "df_numerical.head()"
   ]
  },
  {
   "cell_type": "code",
   "execution_count": 83,
   "metadata": {
    "colab": {
     "base_uri": "https://localhost:8080/"
    },
    "id": "UUq4TWGri1Hz",
    "outputId": "ea818c96-e55c-48ce-f31d-d3f7f9f55c01"
   },
   "outputs": [
    {
     "data": {
      "text/plain": [
       "liked\n",
       "0    9684\n",
       "1    2146\n",
       "Name: count, dtype: int64"
      ]
     },
     "execution_count": 83,
     "metadata": {},
     "output_type": "execute_result"
    }
   ],
   "source": [
    "df_numerical['liked'].value_counts()"
   ]
  },
  {
   "cell_type": "code",
   "execution_count": 84,
   "metadata": {
    "colab": {
     "base_uri": "https://localhost:8080/",
     "height": 542
    },
    "id": "PRvGRxRJLVlh",
    "outputId": "af8ca874-cf27-4e22-fd76-f868369c44fe"
   },
   "outputs": [
    {
     "data": {
      "image/png": "[encoded data removed]",
      "text/plain": [
       "<Figure size 600x400 with 1 Axes>"
      ]
     },
     "metadata": {},
     "output_type": "display_data"
    }
   ],
   "source": [
    "# Calculate value counts for the 'liked' column\n",
    "liked_counts = df_numerical['liked'].value_counts()\n",
    "\n",
    "# Plot bar plot using Seaborn\n",
    "plt.figure(figsize=(6, 4))\n",
    "sns.barplot(x=liked_counts.index, y=liked_counts.values, palette='pastel')\n",
    "\n",
    "# Add titles and labels\n",
    "plt.title('Distribution of Liked/Not Liked Animes')\n",
    "plt.xlabel('Liked (1 = Yes, 0 = No)')\n",
    "plt.ylabel('Count')\n",
    "\n",
    "# Show plot\n",
    "plt.show()"
   ]
  },
  {
   "cell_type": "code",
   "execution_count": 92,
   "metadata": {},
   "outputs": [
    {
     "data": {
      "text/plain": [
       "liked\n",
       "0    9684\n",
       "1    2146\n",
       "Name: count, dtype: int64"
      ]
     },
     "execution_count": 92,
     "metadata": {},
     "output_type": "execute_result"
    }
   ],
   "source": [
    "df_numerical['liked'].value_counts()"
   ]
  },
  {
   "cell_type": "markdown",
   "metadata": {
    "id": "k6o2gi9W2C1S"
   },
   "source": [
    "### Split dataset into training and testing sets"
   ]
  },
  {
   "cell_type": "code",
   "execution_count": 100,
   "metadata": {},
   "outputs": [],
   "source": [
    "from sklearn.model_selection import train_test_split"
   ]
  },
  {
   "cell_type": "code",
   "execution_count": 101,
   "metadata": {},
   "outputs": [],
   "source": [
    "X = df_numerical.drop(['name', 'type','anime_id', 'liked'], axis=1)  # Features\n",
    "y = df_numerical['liked']  # Target variable"
   ]
  },
  {
   "cell_type": "code",
   "execution_count": 102,
   "metadata": {},
   "outputs": [
    {
     "data": {
      "text/plain": [
       "Index(['episodes', 'rating', 'members', 'Action', 'Adventure', 'Cars',\n",
       "       'Comedy', 'Dementia', 'Demons', 'Drama', 'Ecchi', 'Fantasy', 'Game',\n",
       "       'Harem', 'Hentai', 'Historical', 'Horror', 'Josei', 'Kids', 'Magic',\n",
       "       'Martial Arts', 'Mecha', 'Military', 'Music', 'Mystery', 'Parody',\n",
       "       'Police', 'Psychological', 'Romance', 'Samurai', 'School', 'Sci-Fi',\n",
       "       'Seinen', 'Shoujo', 'Shoujo Ai', 'Shounen', 'Shounen Ai',\n",
       "       'Slice of Life', 'Space', 'Sports', 'Super Power', 'Supernatural',\n",
       "       'Thriller', 'Vampire', 'Yaoi', 'Yuri'],\n",
       "      dtype='object')"
      ]
     },
     "execution_count": 102,
     "metadata": {},
     "output_type": "execute_result"
    }
   ],
   "source": [
    "X.columns"
   ]
  },
  {
   "cell_type": "code",
   "execution_count": 103,
   "metadata": {},
   "outputs": [],
   "source": [
    "# Split the dataset into training and testing sets\n",
    "X_train, X_test, y_train, y_test = train_test_split(X, y, test_size=0.2, random_state=42)"
   ]
  },
  {
   "cell_type": "code",
   "execution_count": 104,
   "metadata": {
    "colab": {
     "base_uri": "https://localhost:8080/"
    },
    "id": "UgPxARrebpuF",
    "outputId": "5989434f-08ce-40c6-ea07-6c9d95887c7a"
   },
   "outputs": [
    {
     "name": "stdout",
     "output_type": "stream",
     "text": [
      "Shape of X_train: (9464, 46)\n",
      "Shape of X_test: (2366, 46)\n",
      "Shape of y_train: (9464,)\n",
      "Shape of y_test: (2366,)\n"
     ]
    }
   ],
   "source": [
    "# Display the shapes of the training and testing sets\n",
    "print(\"Shape of X_train:\", X_train.shape)\n",
    "print(\"Shape of X_test:\", X_test.shape)\n",
    "print(\"Shape of y_train:\", y_train.shape)\n",
    "print(\"Shape of y_test:\", y_test.shape)"
   ]
  },
  {
   "cell_type": "markdown",
   "metadata": {
    "id": "Q67S65Y72d7S"
   },
   "source": [
    "# Evaluation function"
   ]
  },
  {
   "cell_type": "code",
   "execution_count": 105,
   "metadata": {},
   "outputs": [],
   "source": [
    "from sklearn.linear_model import LogisticRegression\n",
    "from sklearn.preprocessing import StandardScaler\n",
    "from sklearn.metrics import precision_score, recall_score, f1_score, accuracy_score"
   ]
  },
  {
   "cell_type": "code",
   "execution_count": 107,
   "metadata": {},
   "outputs": [],
   "source": [
    "# Scale the features\n",
    "scaler = StandardScaler()\n",
    "X_train_scaled = scaler.fit_transform(X_train)\n",
    "X_test_scaled = scaler.transform(X_test)"
   ]
  },
  {
   "cell_type": "code",
   "execution_count": 111,
   "metadata": {},
   "outputs": [
    {
     "data": {
      "text/html": [
       "<style>#sk-container-id-2 {color: black;}#sk-container-id-2 pre{padding: 0;}#sk-container-id-2 div.sk-toggleable {background-color: white;}#sk-container-id-2 label.sk-toggleable__label {cursor: pointer;display: block;width: 100%;margin-bottom: 0;padding: 0.3em;box-sizing: border-box;text-align: center;}#sk-container-id-2 label.sk-toggleable__label-arrow:before {content: \"▸\";float: left;margin-right: 0.25em;color: #696969;}#sk-container-id-2 label.sk-toggleable__label-arrow:hover:before {color: black;}#sk-container-id-2 div.sk-estimator:hover label.sk-toggleable__label-arrow:before {color: black;}#sk-container-id-2 div.sk-toggleable__content {max-height: 0;max-width: 0;overflow: hidden;text-align: left;background-color: #f0f8ff;}#sk-container-id-2 div.sk-toggleable__content pre {margin: 0.2em;color: black;border-radius: 0.25em;background-color: #f0f8ff;}#sk-container-id-2 input.sk-toggleable__control:checked~div.sk-toggleable__content {max-height: 200px;max-width: 100%;overflow: auto;}#sk-container-id-2 input.sk-toggleable__control:checked~label.sk-toggleable__label-arrow:before {content: \"▾\";}#sk-container-id-2 div.sk-estimator input.sk-toggleable__control:checked~label.sk-toggleable__label {background-color: #d4ebff;}#sk-container-id-2 div.sk-label input.sk-toggleable__control:checked~label.sk-toggleable__label {background-color: #d4ebff;}#sk-container-id-2 input.sk-hidden--visually {border: 0;clip: rect(1px 1px 1px 1px);clip: rect(1px, 1px, 1px, 1px);height: 1px;margin: -1px;overflow: hidden;padding: 0;position: absolute;width: 1px;}#sk-container-id-2 div.sk-estimator {font-family: monospace;background-color: #f0f8ff;border: 1px dotted black;border-radius: 0.25em;box-sizing: border-box;margin-bottom: 0.5em;}#sk-container-id-2 div.sk-estimator:hover {background-color: #d4ebff;}#sk-container-id-2 div.sk-parallel-item::after {content: \"\";width: 100%;border-bottom: 1px solid gray;flex-grow: 1;}#sk-container-id-2 div.sk-label:hover label.sk-toggleable__label {background-color: #d4ebff;}#sk-container-id-2 div.sk-serial::before {content: \"\";position: absolute;border-left: 1px solid gray;box-sizing: border-box;top: 0;bottom: 0;left: 50%;z-index: 0;}#sk-container-id-2 div.sk-serial {display: flex;flex-direction: column;align-items: center;background-color: white;padding-right: 0.2em;padding-left: 0.2em;position: relative;}#sk-container-id-2 div.sk-item {position: relative;z-index: 1;}#sk-container-id-2 div.sk-parallel {display: flex;align-items: stretch;justify-content: center;background-color: white;position: relative;}#sk-container-id-2 div.sk-item::before, #sk-container-id-2 div.sk-parallel-item::before {content: \"\";position: absolute;border-left: 1px solid gray;box-sizing: border-box;top: 0;bottom: 0;left: 50%;z-index: -1;}#sk-container-id-2 div.sk-parallel-item {display: flex;flex-direction: column;z-index: 1;position: relative;background-color: white;}#sk-container-id-2 div.sk-parallel-item:first-child::after {align-self: flex-end;width: 50%;}#sk-container-id-2 div.sk-parallel-item:last-child::after {align-self: flex-start;width: 50%;}#sk-container-id-2 div.sk-parallel-item:only-child::after {width: 0;}#sk-container-id-2 div.sk-dashed-wrapped {border: 1px dashed gray;margin: 0 0.4em 0.5em 0.4em;box-sizing: border-box;padding-bottom: 0.4em;background-color: white;}#sk-container-id-2 div.sk-label label {font-family: monospace;font-weight: bold;display: inline-block;line-height: 1.2em;}#sk-container-id-2 div.sk-label-container {text-align: center;}#sk-container-id-2 div.sk-container {/* jupyter's `normalize.less` sets `[hidden] { display: none; }` but bootstrap.min.css set `[hidden] { display: none !important; }` so we also need the `!important` here to be able to override the default hidden behavior on the sphinx rendered scikit-learn.org. See: https://github.com/scikit-learn/scikit-learn/issues/21755 */display: inline-block !important;position: relative;}#sk-container-id-2 div.sk-text-repr-fallback {display: none;}</style><div id=\"sk-container-id-2\" class=\"sk-top-container\"><div class=\"sk-text-repr-fallback\"><pre>LogisticRegression()</pre><b>In a Jupyter environment, please rerun this cell to show the HTML representation or trust the notebook. <br />On GitHub, the HTML representation is unable to render, please try loading this page with nbviewer.org.</b></div><div class=\"sk-container\" hidden><div class=\"sk-item\"><div class=\"sk-estimator sk-toggleable\"><input class=\"sk-toggleable__control sk-hidden--visually\" id=\"sk-estimator-id-2\" type=\"checkbox\" checked><label for=\"sk-estimator-id-2\" class=\"sk-toggleable__label sk-toggleable__label-arrow\">LogisticRegression</label><div class=\"sk-toggleable__content\"><pre>LogisticRegression()</pre></div></div></div></div></div>"
      ],
      "text/plain": [
       "LogisticRegression()"
      ]
     },
     "execution_count": 111,
     "metadata": {},
     "output_type": "execute_result"
    }
   ],
   "source": [
    "# Train a binary classification model (logistic regression) using the scaled training set\n",
    "model = LogisticRegression()\n",
    "model.fit(X_train_scaled, y_train)"
   ]
  },
  {
   "cell_type": "code",
   "execution_count": 112,
   "metadata": {},
   "outputs": [],
   "source": [
    "# Make predictions on the scaled testing set\n",
    "y_pred = model.predict(X_test_scaled)"
   ]
  },
  {
   "cell_type": "code",
   "execution_count": 113,
   "metadata": {
    "colab": {
     "base_uri": "https://localhost:8080/"
    },
    "id": "y6I_sEs8uPol",
    "outputId": "14eea83a-4e2c-4b5c-e36e-1bb47d21f9ff"
   },
   "outputs": [
    {
     "name": "stdout",
     "output_type": "stream",
     "text": [
      "Accuracy: 0.9459002535925612\n",
      "Precision: 0.9007633587786259\n",
      "Recall: 0.7990970654627539\n",
      "F1-score: 0.84688995215311\n"
     ]
    }
   ],
   "source": [
    "# Calculate precision, recall, and F1-score, accuracy\n",
    "precision = precision_score(y_test, y_pred)\n",
    "recall = recall_score(y_test, y_pred)\n",
    "f1 = f1_score(y_test, y_pred)\n",
    "accuracy = accuracy_score(y_test, y_pred)\n",
    "print(\"Accuracy:\", accuracy)\n",
    "print(\"Precision:\", precision)\n",
    "print(\"Recall:\", recall)\n",
    "print(\"F1-score:\", f1)"
   ]
  },
  {
   "cell_type": "markdown",
   "metadata": {
    "id": "JY7igk-XNWCC"
   },
   "source": [
    "### Interpretation:\n",
    "Model performs very well overall.\n",
    "\n",
    "High precision: It makes good-quality recommendations with few irrelevant suggestions.\n",
    "\n",
    "Good recall: It captures most of the animes users would have liked.\n",
    "\n",
    "Balanced F1: Good trade-off between catching liked animes and not recommending irrelevant ones."
   ]
  },
  {
   "cell_type": "markdown",
   "metadata": {
    "id": "jgFDRyu3Nlni"
   },
   "source": [
    "## Interview Questions:"
   ]
  },
  {
   "cell_type": "markdown",
   "metadata": {
    "id": "igS-LuGMNm76"
   },
   "source": [
    "### 1. Can you explain the difference between user-based and item-based collaborative filtering\n",
    "**User-Based Collaborative Filtering:**\n",
    "\n",
    "Recommends items to a user based on the similarity between that user and other users.\n",
    "\n",
    "Focuses on finding users with similar preferences.\n",
    "\n",
    "Requires computing the similarity between users.\n",
    "\n",
    "Suitable for scenarios with many users and interactions per user.\n",
    "\n",
    "**Item-Based Collaborative Filtering:**\n",
    "\n",
    "Recommends items to a user based on the similarity between items.\n",
    "\n",
    "Focuses on finding similar items to those the user has interacted with.\n",
    "\n",
    "Requires computing the similarity between items.\n",
    "\n",
    "Suitable for scenarios with many items and fewer interactions per item.\n",
    "\n",
    "Overall, user-based collaborative filtering focuses on similar users, while item-based collaborative filtering focuses on similar items. Each approach has its strengths and is suitable for different scenarios."
   ]
  },
  {
   "cell_type": "markdown",
   "metadata": {
    "id": "Ibp9OtfSU7mh"
   },
   "source": [
    "### 2. What is collaborative filtering, and how does it work?\n",
    "Collaborative filtering is a technique used in recommender systems to generate personalized recommendations by analyzing user interactions with items.\n",
    "\n",
    "It works by finding similarities between users or items based on their behavior, such as ratings or purchases, and then recommending items that similar users have liked or items similar to those the user has interacted with.\n",
    "\n",
    "It does not require explicit knowledge about items or users and is widely used in applications like e-commerce and streaming services to improve user experience and engagement."
   ]
  },
  {
   "cell_type": "code",
   "execution_count": null,
   "metadata": {},
   "outputs": [],
   "source": []
  }
 ],
 "metadata": {
  "colab": {
   "authorship_tag": "ABX9TyMmoFdLIkqh36XwZIug9uG4",
   "include_colab_link": true,
   "provenance": []
  },
  "kernelspec": {
   "display_name": "Python 3 (ipykernel)",
   "language": "python",
   "name": "python3"
  },
  "language_info": {
   "codemirror_mode": {
    "name": "ipython",
    "version": 3
   },
   "file_extension": ".py",
   "mimetype": "text/x-python",
   "name": "python",
   "nbconvert_exporter": "python",
   "pygments_lexer": "ipython3",
   "version": "3.11.7"
  }
 },
 "nbformat": 4,
 "nbformat_minor": 4
}
