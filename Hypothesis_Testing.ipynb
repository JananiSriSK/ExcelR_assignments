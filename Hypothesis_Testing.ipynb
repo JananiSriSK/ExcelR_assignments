{
 "cells": [
  {
   "cell_type": "markdown",
   "id": "7ecf1c90-06d3-40cc-af6c-677d09fa9fcd",
   "metadata": {},
   "source": [
    "# HYPOTHESIS TESTING"
   ]
  },
  {
   "cell_type": "markdown",
   "id": "4a436c88-88a5-488c-bba0-eff693031c39",
   "metadata": {},
   "source": [
    "##  Problem Statement\n",
    "\n",
    "Bombay Hospitality Ltd. operates a franchise model for producing exotic Norwegian dinners. The weekly operating cost is given by:\n",
    "\n",
    "=> W = 1000 + 5X\n",
    "\n",
    "where \\( X \\) is the number of units produced in a week.\n",
    "\n",
    "Recently, franchise owners claim that the actual weekly operating costs have increased beyond this model.\n",
    "We’ll use hypothesis testing to investigate this claim."
   ]
  },
  {
   "cell_type": "markdown",
   "id": "8f063ba3-77fd-4767-a081-10dd632e02ad",
   "metadata": {},
   "source": [
    "\n",
    "##  Given Data\n",
    "\n",
    "- Theoretical cost model: ( W = 1000 + 5X )\n",
    "- ( X = 600 ) units  \n",
    "- ( mu = 1000 + 5 times 600 = 4000 )\n",
    "- Sample of 25 restaurants:\n",
    "  - Sample Mean (( bar{x} )) = ₹3050\n",
    "  - Standard Deviation of cost per unit produced: ₹5 × 25 = ₹125\n",
    "  - Sample Size (( n )) = 25\n",
    "- Significance level: (alpha = 0.05)\n"
   ]
  },
  {
   "cell_type": "markdown",
   "id": "f2df0c18-79ef-495d-ba25-c715578022a6",
   "metadata": {},
   "source": [
    "## Hypothesis Statement\n",
    "\n",
    "###  Null Hypothesis (H₀):\n",
    "The average weekly operating cost is ₹4000  \n",
    "### Alternative Hypothesis (H₁):\n",
    "The average weekly operating cost is higher than ₹4000  "
   ]
  },
  {
   "cell_type": "markdown",
   "id": "9fd50a37-5dd0-4e2f-84f6-96f3027e6544",
   "metadata": {},
   "source": [
    "#### So the hypotheses are:\n",
    "\n",
    "H₀: μ = 4000\n",
    "\n",
    "H₁: μ > 4000\n"
   ]
  },
  {
   "cell_type": "markdown",
   "id": "c05c06cc-11d0-4dbb-8d05-56ab64db8cae",
   "metadata": {},
   "source": [
    "## Test Type  \n",
    "\n",
    "- One-tailed Z-test (as population standard deviation is known)\n",
    "- Since H₁ is checking greater than ( > ), it’s a right-tailed test."
   ]
  },
  {
   "cell_type": "code",
   "execution_count": 11,
   "id": "62bebff5-8856-4cf6-95dc-f55b0fb80b7e",
   "metadata": {},
   "outputs": [],
   "source": [
    "### Import Libraries\n",
    "import math \n",
    "from scipy.stats import norm"
   ]
  },
  {
   "cell_type": "code",
   "execution_count": 12,
   "id": "4d9e249f-bb13-41f4-a907-71507ab2b3af",
   "metadata": {},
   "outputs": [],
   "source": [
    "# Define Data and Hypotheses\n",
    "sample_mean = 3050        # x̄\n",
    "theoretical_mean = 4000   # μ (from cost model)\n",
    "std_dev = 125             # σ\n",
    "n = 25                    # sample size\n",
    "alpha = 0.05              # significance level"
   ]
  },
  {
   "cell_type": "code",
   "execution_count": 20,
   "id": "e7143b39-134b-4735-a4c8-ff732a6f469f",
   "metadata": {},
   "outputs": [
    {
     "data": {
      "text/plain": [
       "-38.0"
      ]
     },
     "execution_count": 20,
     "metadata": {},
     "output_type": "execute_result"
    }
   ],
   "source": [
    "# Calculate Test Statistic\n",
    "test_statistic = (sample_mean - theoretical_mean) / (std_dev / math.sqrt(n))\n",
    "test_statistic"
   ]
  },
  {
   "cell_type": "code",
   "execution_count": 21,
   "id": "4dfb4deb-4a65-42be-9ce9-68356a41e8e8",
   "metadata": {},
   "outputs": [
    {
     "data": {
      "text/plain": [
       "1.6448536269514722"
      ]
     },
     "execution_count": 21,
     "metadata": {},
     "output_type": "execute_result"
    }
   ],
   "source": [
    "# Determine Critical Value\n",
    "critical_value = norm.ppf(1-alpha)\n",
    "critical_value"
   ]
  },
  {
   "cell_type": "code",
   "execution_count": 28,
   "id": "6f2cd330-f9a7-4bd6-89f7-646c60bdcd26",
   "metadata": {},
   "outputs": [
    {
     "name": "stdout",
     "output_type": "stream",
     "text": [
      "Failed to Reject Null Hypothesis, There is insufficient evidence to support the claim that weekly operating costs are higher than the model suggests.\n"
     ]
    }
   ],
   "source": [
    "# Final Conclusion\n",
    "if test_statistic > critical_value:\n",
    "    decision = \"Reject Null Hypothesis, There is strong evidence to support the claim that weekly operating costs are higher than the model suggests.\"\n",
    "else:\n",
    "    decision = \"Failed to Reject Null Hypothesis, There is insufficient evidence to support the claim that weekly operating costs are higher than the model suggests.\"\n",
    "\n",
    "print(decision)"
   ]
  },
  {
   "cell_type": "markdown",
   "id": "18e23460-d7a3-4a23-95e1-41b5bf591411",
   "metadata": {},
   "source": [
    "## Conclusion:\n",
    "Based on the hypothesis test conducted:\n",
    "\n",
    "The calculated test statistic (Z) is -38.00\n",
    "\n",
    "The critical value for a right-tailed test at α = 0.05 is 1.645\n",
    "\n",
    "Since -38.00 < 1.645, we fail to reject the null hypothesis\n",
    "\n",
    "Therefore, there is no strong evidence to support the restaurant owners' claim that the weekly operating costs are higher than the model suggests.\n",
    "\n",
    "In fact, the sample mean of ₹3050 is much lower than the expected ₹4000 — suggesting that costs may have decreased, not increased."
   ]
  },
  {
   "cell_type": "code",
   "execution_count": null,
   "id": "8382747e-ae88-4b99-9891-a1de19138297",
   "metadata": {},
   "outputs": [],
   "source": []
  }
 ],
 "metadata": {
  "kernelspec": {
   "display_name": "Python 3 (ipykernel)",
   "language": "python",
   "name": "python3"
  },
  "language_info": {
   "codemirror_mode": {
    "name": "ipython",
    "version": 3
   },
   "file_extension": ".py",
   "mimetype": "text/x-python",
   "name": "python",
   "nbconvert_exporter": "python",
   "pygments_lexer": "ipython3",
   "version": "3.11.7"
  }
 },
 "nbformat": 4,
 "nbformat_minor": 5
}
